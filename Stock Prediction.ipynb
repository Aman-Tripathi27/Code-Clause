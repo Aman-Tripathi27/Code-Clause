{
 "cells": [
  {
   "cell_type": "markdown",
   "id": "dd54e6ce",
   "metadata": {},
   "source": [
    "# STOCK MARKET PREDICTION \n",
    "\n",
    "**Stock used:- Netflix**\n",
    "\n",
    "TASK-1"
   ]
  },
  {
   "cell_type": "markdown",
   "id": "8c65f241",
   "metadata": {},
   "source": [
    "#### Importing libraries"
   ]
  },
  {
   "cell_type": "code",
   "execution_count": 1,
   "id": "29489524",
   "metadata": {},
   "outputs": [],
   "source": [
    "import pandas as pd\n",
    "import numpy as np\n",
    "%matplotlib inline\n",
    "import matplotlib.pyplot as plt \n",
    "import math\n",
    "import seaborn as sns\n",
    "from sklearn.preprocessing import MinMaxScaler\n",
    "from sklearn.metrics import mean_squared_error\n",
    "import tensorflow as tf\n",
    "from tensorflow.keras.layers import Dense\n",
    "from tensorflow.keras import Sequential\n",
    "from tensorflow.keras.layers import LSTM\n",
    "from warnings import filterwarnings\n",
    "filterwarnings(\"ignore\")"
   ]
  },
  {
   "cell_type": "code",
   "execution_count": 2,
   "id": "c2e5c314",
   "metadata": {},
   "outputs": [
    {
     "data": {
      "text/html": [
       "<div>\n",
       "<style scoped>\n",
       "    .dataframe tbody tr th:only-of-type {\n",
       "        vertical-align: middle;\n",
       "    }\n",
       "\n",
       "    .dataframe tbody tr th {\n",
       "        vertical-align: top;\n",
       "    }\n",
       "\n",
       "    .dataframe thead th {\n",
       "        text-align: right;\n",
       "    }\n",
       "</style>\n",
       "<table border=\"1\" class=\"dataframe\">\n",
       "  <thead>\n",
       "    <tr style=\"text-align: right;\">\n",
       "      <th></th>\n",
       "      <th>Date</th>\n",
       "      <th>Open</th>\n",
       "      <th>High</th>\n",
       "      <th>Low</th>\n",
       "      <th>Close</th>\n",
       "      <th>Adj Close</th>\n",
       "      <th>Volume</th>\n",
       "    </tr>\n",
       "  </thead>\n",
       "  <tbody>\n",
       "    <tr>\n",
       "      <th>0</th>\n",
       "      <td>2002-05-23</td>\n",
       "      <td>1.156429</td>\n",
       "      <td>1.242857</td>\n",
       "      <td>1.145714</td>\n",
       "      <td>1.196429</td>\n",
       "      <td>1.196429</td>\n",
       "      <td>104790000</td>\n",
       "    </tr>\n",
       "    <tr>\n",
       "      <th>1</th>\n",
       "      <td>2002-05-24</td>\n",
       "      <td>1.214286</td>\n",
       "      <td>1.225000</td>\n",
       "      <td>1.197143</td>\n",
       "      <td>1.210000</td>\n",
       "      <td>1.210000</td>\n",
       "      <td>11104800</td>\n",
       "    </tr>\n",
       "    <tr>\n",
       "      <th>2</th>\n",
       "      <td>2002-05-28</td>\n",
       "      <td>1.213571</td>\n",
       "      <td>1.232143</td>\n",
       "      <td>1.157143</td>\n",
       "      <td>1.157143</td>\n",
       "      <td>1.157143</td>\n",
       "      <td>6609400</td>\n",
       "    </tr>\n",
       "    <tr>\n",
       "      <th>3</th>\n",
       "      <td>2002-05-29</td>\n",
       "      <td>1.164286</td>\n",
       "      <td>1.164286</td>\n",
       "      <td>1.085714</td>\n",
       "      <td>1.103571</td>\n",
       "      <td>1.103571</td>\n",
       "      <td>6757800</td>\n",
       "    </tr>\n",
       "    <tr>\n",
       "      <th>4</th>\n",
       "      <td>2002-05-30</td>\n",
       "      <td>1.107857</td>\n",
       "      <td>1.107857</td>\n",
       "      <td>1.071429</td>\n",
       "      <td>1.071429</td>\n",
       "      <td>1.071429</td>\n",
       "      <td>10154200</td>\n",
       "    </tr>\n",
       "    <tr>\n",
       "      <th>...</th>\n",
       "      <td>...</td>\n",
       "      <td>...</td>\n",
       "      <td>...</td>\n",
       "      <td>...</td>\n",
       "      <td>...</td>\n",
       "      <td>...</td>\n",
       "      <td>...</td>\n",
       "    </tr>\n",
       "    <tr>\n",
       "      <th>5039</th>\n",
       "      <td>2022-05-27</td>\n",
       "      <td>193.190002</td>\n",
       "      <td>195.250000</td>\n",
       "      <td>190.369995</td>\n",
       "      <td>195.190002</td>\n",
       "      <td>195.190002</td>\n",
       "      <td>8586000</td>\n",
       "    </tr>\n",
       "    <tr>\n",
       "      <th>5040</th>\n",
       "      <td>2022-05-31</td>\n",
       "      <td>196.179993</td>\n",
       "      <td>199.949997</td>\n",
       "      <td>190.800003</td>\n",
       "      <td>197.440002</td>\n",
       "      <td>197.440002</td>\n",
       "      <td>11398500</td>\n",
       "    </tr>\n",
       "    <tr>\n",
       "      <th>5041</th>\n",
       "      <td>2022-06-01</td>\n",
       "      <td>198.699997</td>\n",
       "      <td>202.740005</td>\n",
       "      <td>191.660004</td>\n",
       "      <td>192.910004</td>\n",
       "      <td>192.910004</td>\n",
       "      <td>8416200</td>\n",
       "    </tr>\n",
       "    <tr>\n",
       "      <th>5042</th>\n",
       "      <td>2022-06-02</td>\n",
       "      <td>192.020004</td>\n",
       "      <td>205.470001</td>\n",
       "      <td>191.720001</td>\n",
       "      <td>205.089996</td>\n",
       "      <td>205.089996</td>\n",
       "      <td>9623100</td>\n",
       "    </tr>\n",
       "    <tr>\n",
       "      <th>5043</th>\n",
       "      <td>2022-06-03</td>\n",
       "      <td>200.139999</td>\n",
       "      <td>202.949997</td>\n",
       "      <td>198.050003</td>\n",
       "      <td>198.979996</td>\n",
       "      <td>198.979996</td>\n",
       "      <td>7181700</td>\n",
       "    </tr>\n",
       "  </tbody>\n",
       "</table>\n",
       "<p>5044 rows × 7 columns</p>\n",
       "</div>"
      ],
      "text/plain": [
       "            Date        Open        High         Low       Close   Adj Close  \\\n",
       "0     2002-05-23    1.156429    1.242857    1.145714    1.196429    1.196429   \n",
       "1     2002-05-24    1.214286    1.225000    1.197143    1.210000    1.210000   \n",
       "2     2002-05-28    1.213571    1.232143    1.157143    1.157143    1.157143   \n",
       "3     2002-05-29    1.164286    1.164286    1.085714    1.103571    1.103571   \n",
       "4     2002-05-30    1.107857    1.107857    1.071429    1.071429    1.071429   \n",
       "...          ...         ...         ...         ...         ...         ...   \n",
       "5039  2022-05-27  193.190002  195.250000  190.369995  195.190002  195.190002   \n",
       "5040  2022-05-31  196.179993  199.949997  190.800003  197.440002  197.440002   \n",
       "5041  2022-06-01  198.699997  202.740005  191.660004  192.910004  192.910004   \n",
       "5042  2022-06-02  192.020004  205.470001  191.720001  205.089996  205.089996   \n",
       "5043  2022-06-03  200.139999  202.949997  198.050003  198.979996  198.979996   \n",
       "\n",
       "         Volume  \n",
       "0     104790000  \n",
       "1      11104800  \n",
       "2       6609400  \n",
       "3       6757800  \n",
       "4      10154200  \n",
       "...         ...  \n",
       "5039    8586000  \n",
       "5040   11398500  \n",
       "5041    8416200  \n",
       "5042    9623100  \n",
       "5043    7181700  \n",
       "\n",
       "[5044 rows x 7 columns]"
      ]
     },
     "execution_count": 2,
     "metadata": {},
     "output_type": "execute_result"
    }
   ],
   "source": [
    "netflix_data = pd.read_csv(\"NFLX.csv\")\n",
    "netflix_data\n"
   ]
  },
  {
   "cell_type": "markdown",
   "id": "ccef9fc7",
   "metadata": {},
   "source": [
    "## Gathering info about the data"
   ]
  },
  {
   "cell_type": "code",
   "execution_count": 3,
   "id": "0ba8ba12",
   "metadata": {},
   "outputs": [
    {
     "data": {
      "text/html": [
       "<div>\n",
       "<style scoped>\n",
       "    .dataframe tbody tr th:only-of-type {\n",
       "        vertical-align: middle;\n",
       "    }\n",
       "\n",
       "    .dataframe tbody tr th {\n",
       "        vertical-align: top;\n",
       "    }\n",
       "\n",
       "    .dataframe thead th {\n",
       "        text-align: right;\n",
       "    }\n",
       "</style>\n",
       "<table border=\"1\" class=\"dataframe\">\n",
       "  <thead>\n",
       "    <tr style=\"text-align: right;\">\n",
       "      <th></th>\n",
       "      <th>Date</th>\n",
       "      <th>Open</th>\n",
       "      <th>High</th>\n",
       "      <th>Low</th>\n",
       "      <th>Close</th>\n",
       "      <th>Adj Close</th>\n",
       "      <th>Volume</th>\n",
       "    </tr>\n",
       "  </thead>\n",
       "  <tbody>\n",
       "    <tr>\n",
       "      <th>5039</th>\n",
       "      <td>2022-05-27</td>\n",
       "      <td>193.190002</td>\n",
       "      <td>195.250000</td>\n",
       "      <td>190.369995</td>\n",
       "      <td>195.190002</td>\n",
       "      <td>195.190002</td>\n",
       "      <td>8586000</td>\n",
       "    </tr>\n",
       "    <tr>\n",
       "      <th>5040</th>\n",
       "      <td>2022-05-31</td>\n",
       "      <td>196.179993</td>\n",
       "      <td>199.949997</td>\n",
       "      <td>190.800003</td>\n",
       "      <td>197.440002</td>\n",
       "      <td>197.440002</td>\n",
       "      <td>11398500</td>\n",
       "    </tr>\n",
       "    <tr>\n",
       "      <th>5041</th>\n",
       "      <td>2022-06-01</td>\n",
       "      <td>198.699997</td>\n",
       "      <td>202.740005</td>\n",
       "      <td>191.660004</td>\n",
       "      <td>192.910004</td>\n",
       "      <td>192.910004</td>\n",
       "      <td>8416200</td>\n",
       "    </tr>\n",
       "    <tr>\n",
       "      <th>5042</th>\n",
       "      <td>2022-06-02</td>\n",
       "      <td>192.020004</td>\n",
       "      <td>205.470001</td>\n",
       "      <td>191.720001</td>\n",
       "      <td>205.089996</td>\n",
       "      <td>205.089996</td>\n",
       "      <td>9623100</td>\n",
       "    </tr>\n",
       "    <tr>\n",
       "      <th>5043</th>\n",
       "      <td>2022-06-03</td>\n",
       "      <td>200.139999</td>\n",
       "      <td>202.949997</td>\n",
       "      <td>198.050003</td>\n",
       "      <td>198.979996</td>\n",
       "      <td>198.979996</td>\n",
       "      <td>7181700</td>\n",
       "    </tr>\n",
       "  </tbody>\n",
       "</table>\n",
       "</div>"
      ],
      "text/plain": [
       "            Date        Open        High         Low       Close   Adj Close  \\\n",
       "5039  2022-05-27  193.190002  195.250000  190.369995  195.190002  195.190002   \n",
       "5040  2022-05-31  196.179993  199.949997  190.800003  197.440002  197.440002   \n",
       "5041  2022-06-01  198.699997  202.740005  191.660004  192.910004  192.910004   \n",
       "5042  2022-06-02  192.020004  205.470001  191.720001  205.089996  205.089996   \n",
       "5043  2022-06-03  200.139999  202.949997  198.050003  198.979996  198.979996   \n",
       "\n",
       "        Volume  \n",
       "5039   8586000  \n",
       "5040  11398500  \n",
       "5041   8416200  \n",
       "5042   9623100  \n",
       "5043   7181700  "
      ]
     },
     "execution_count": 3,
     "metadata": {},
     "output_type": "execute_result"
    }
   ],
   "source": [
    "netflix_data.tail()"
   ]
  },
  {
   "cell_type": "code",
   "execution_count": 4,
   "id": "205b074f",
   "metadata": {},
   "outputs": [
    {
     "data": {
      "text/html": [
       "<div>\n",
       "<style scoped>\n",
       "    .dataframe tbody tr th:only-of-type {\n",
       "        vertical-align: middle;\n",
       "    }\n",
       "\n",
       "    .dataframe tbody tr th {\n",
       "        vertical-align: top;\n",
       "    }\n",
       "\n",
       "    .dataframe thead th {\n",
       "        text-align: right;\n",
       "    }\n",
       "</style>\n",
       "<table border=\"1\" class=\"dataframe\">\n",
       "  <thead>\n",
       "    <tr style=\"text-align: right;\">\n",
       "      <th></th>\n",
       "      <th>Date</th>\n",
       "      <th>Open</th>\n",
       "      <th>High</th>\n",
       "      <th>Low</th>\n",
       "      <th>Close</th>\n",
       "      <th>Adj Close</th>\n",
       "      <th>Volume</th>\n",
       "    </tr>\n",
       "  </thead>\n",
       "  <tbody>\n",
       "    <tr>\n",
       "      <th>0</th>\n",
       "      <td>2002-05-23</td>\n",
       "      <td>1.156429</td>\n",
       "      <td>1.242857</td>\n",
       "      <td>1.145714</td>\n",
       "      <td>1.196429</td>\n",
       "      <td>1.196429</td>\n",
       "      <td>104790000</td>\n",
       "    </tr>\n",
       "    <tr>\n",
       "      <th>1</th>\n",
       "      <td>2002-05-24</td>\n",
       "      <td>1.214286</td>\n",
       "      <td>1.225000</td>\n",
       "      <td>1.197143</td>\n",
       "      <td>1.210000</td>\n",
       "      <td>1.210000</td>\n",
       "      <td>11104800</td>\n",
       "    </tr>\n",
       "    <tr>\n",
       "      <th>2</th>\n",
       "      <td>2002-05-28</td>\n",
       "      <td>1.213571</td>\n",
       "      <td>1.232143</td>\n",
       "      <td>1.157143</td>\n",
       "      <td>1.157143</td>\n",
       "      <td>1.157143</td>\n",
       "      <td>6609400</td>\n",
       "    </tr>\n",
       "    <tr>\n",
       "      <th>3</th>\n",
       "      <td>2002-05-29</td>\n",
       "      <td>1.164286</td>\n",
       "      <td>1.164286</td>\n",
       "      <td>1.085714</td>\n",
       "      <td>1.103571</td>\n",
       "      <td>1.103571</td>\n",
       "      <td>6757800</td>\n",
       "    </tr>\n",
       "    <tr>\n",
       "      <th>4</th>\n",
       "      <td>2002-05-30</td>\n",
       "      <td>1.107857</td>\n",
       "      <td>1.107857</td>\n",
       "      <td>1.071429</td>\n",
       "      <td>1.071429</td>\n",
       "      <td>1.071429</td>\n",
       "      <td>10154200</td>\n",
       "    </tr>\n",
       "  </tbody>\n",
       "</table>\n",
       "</div>"
      ],
      "text/plain": [
       "         Date      Open      High       Low     Close  Adj Close     Volume\n",
       "0  2002-05-23  1.156429  1.242857  1.145714  1.196429   1.196429  104790000\n",
       "1  2002-05-24  1.214286  1.225000  1.197143  1.210000   1.210000   11104800\n",
       "2  2002-05-28  1.213571  1.232143  1.157143  1.157143   1.157143    6609400\n",
       "3  2002-05-29  1.164286  1.164286  1.085714  1.103571   1.103571    6757800\n",
       "4  2002-05-30  1.107857  1.107857  1.071429  1.071429   1.071429   10154200"
      ]
     },
     "execution_count": 4,
     "metadata": {},
     "output_type": "execute_result"
    }
   ],
   "source": [
    "netflix_data.head()"
   ]
  },
  {
   "cell_type": "code",
   "execution_count": 5,
   "id": "c9e1d106",
   "metadata": {},
   "outputs": [
    {
     "name": "stdout",
     "output_type": "stream",
     "text": [
      "<class 'pandas.core.frame.DataFrame'>\n",
      "RangeIndex: 5044 entries, 0 to 5043\n",
      "Data columns (total 7 columns):\n",
      " #   Column     Non-Null Count  Dtype  \n",
      "---  ------     --------------  -----  \n",
      " 0   Date       5044 non-null   object \n",
      " 1   Open       5044 non-null   float64\n",
      " 2   High       5044 non-null   float64\n",
      " 3   Low        5044 non-null   float64\n",
      " 4   Close      5044 non-null   float64\n",
      " 5   Adj Close  5044 non-null   float64\n",
      " 6   Volume     5044 non-null   int64  \n",
      "dtypes: float64(5), int64(1), object(1)\n",
      "memory usage: 276.0+ KB\n"
     ]
    }
   ],
   "source": [
    "netflix_data.info()"
   ]
  },
  {
   "cell_type": "code",
   "execution_count": 6,
   "id": "f09c2771",
   "metadata": {},
   "outputs": [
    {
     "data": {
      "text/plain": [
       "(5044, 7)"
      ]
     },
     "execution_count": 6,
     "metadata": {},
     "output_type": "execute_result"
    }
   ],
   "source": [
    "netflix_data.shape"
   ]
  },
  {
   "cell_type": "code",
   "execution_count": 7,
   "id": "8bf58824",
   "metadata": {},
   "outputs": [
    {
     "data": {
      "text/html": [
       "<div>\n",
       "<style scoped>\n",
       "    .dataframe tbody tr th:only-of-type {\n",
       "        vertical-align: middle;\n",
       "    }\n",
       "\n",
       "    .dataframe tbody tr th {\n",
       "        vertical-align: top;\n",
       "    }\n",
       "\n",
       "    .dataframe thead th {\n",
       "        text-align: right;\n",
       "    }\n",
       "</style>\n",
       "<table border=\"1\" class=\"dataframe\">\n",
       "  <thead>\n",
       "    <tr style=\"text-align: right;\">\n",
       "      <th></th>\n",
       "      <th>Open</th>\n",
       "      <th>High</th>\n",
       "      <th>Low</th>\n",
       "      <th>Close</th>\n",
       "      <th>Adj Close</th>\n",
       "      <th>Volume</th>\n",
       "    </tr>\n",
       "  </thead>\n",
       "  <tbody>\n",
       "    <tr>\n",
       "      <th>count</th>\n",
       "      <td>5044.000000</td>\n",
       "      <td>5044.000000</td>\n",
       "      <td>5044.000000</td>\n",
       "      <td>5044.000000</td>\n",
       "      <td>5044.000000</td>\n",
       "      <td>5.044000e+03</td>\n",
       "    </tr>\n",
       "    <tr>\n",
       "      <th>mean</th>\n",
       "      <td>116.467981</td>\n",
       "      <td>118.237392</td>\n",
       "      <td>114.578719</td>\n",
       "      <td>116.456338</td>\n",
       "      <td>116.456338</td>\n",
       "      <td>1.653068e+07</td>\n",
       "    </tr>\n",
       "    <tr>\n",
       "      <th>std</th>\n",
       "      <td>168.740876</td>\n",
       "      <td>171.140864</td>\n",
       "      <td>166.119837</td>\n",
       "      <td>168.668232</td>\n",
       "      <td>168.668232</td>\n",
       "      <td>1.924487e+07</td>\n",
       "    </tr>\n",
       "    <tr>\n",
       "      <th>min</th>\n",
       "      <td>0.377857</td>\n",
       "      <td>0.410714</td>\n",
       "      <td>0.346429</td>\n",
       "      <td>0.372857</td>\n",
       "      <td>0.372857</td>\n",
       "      <td>2.856000e+05</td>\n",
       "    </tr>\n",
       "    <tr>\n",
       "      <th>25%</th>\n",
       "      <td>3.955357</td>\n",
       "      <td>4.031072</td>\n",
       "      <td>3.885357</td>\n",
       "      <td>3.958571</td>\n",
       "      <td>3.958571</td>\n",
       "      <td>6.168225e+06</td>\n",
       "    </tr>\n",
       "    <tr>\n",
       "      <th>50%</th>\n",
       "      <td>25.819285</td>\n",
       "      <td>26.342143</td>\n",
       "      <td>25.455000</td>\n",
       "      <td>25.802856</td>\n",
       "      <td>25.802856</td>\n",
       "      <td>1.059135e+07</td>\n",
       "    </tr>\n",
       "    <tr>\n",
       "      <th>75%</th>\n",
       "      <td>155.762497</td>\n",
       "      <td>157.654998</td>\n",
       "      <td>153.944996</td>\n",
       "      <td>155.869999</td>\n",
       "      <td>155.869999</td>\n",
       "      <td>1.986552e+07</td>\n",
       "    </tr>\n",
       "    <tr>\n",
       "      <th>max</th>\n",
       "      <td>692.349976</td>\n",
       "      <td>700.989990</td>\n",
       "      <td>686.090027</td>\n",
       "      <td>691.690002</td>\n",
       "      <td>691.690002</td>\n",
       "      <td>3.234140e+08</td>\n",
       "    </tr>\n",
       "  </tbody>\n",
       "</table>\n",
       "</div>"
      ],
      "text/plain": [
       "              Open         High          Low        Close    Adj Close  \\\n",
       "count  5044.000000  5044.000000  5044.000000  5044.000000  5044.000000   \n",
       "mean    116.467981   118.237392   114.578719   116.456338   116.456338   \n",
       "std     168.740876   171.140864   166.119837   168.668232   168.668232   \n",
       "min       0.377857     0.410714     0.346429     0.372857     0.372857   \n",
       "25%       3.955357     4.031072     3.885357     3.958571     3.958571   \n",
       "50%      25.819285    26.342143    25.455000    25.802856    25.802856   \n",
       "75%     155.762497   157.654998   153.944996   155.869999   155.869999   \n",
       "max     692.349976   700.989990   686.090027   691.690002   691.690002   \n",
       "\n",
       "             Volume  \n",
       "count  5.044000e+03  \n",
       "mean   1.653068e+07  \n",
       "std    1.924487e+07  \n",
       "min    2.856000e+05  \n",
       "25%    6.168225e+06  \n",
       "50%    1.059135e+07  \n",
       "75%    1.986552e+07  \n",
       "max    3.234140e+08  "
      ]
     },
     "execution_count": 7,
     "metadata": {},
     "output_type": "execute_result"
    }
   ],
   "source": [
    "netflix_data.describe()"
   ]
  },
  {
   "cell_type": "code",
   "execution_count": 8,
   "id": "f5ebf260",
   "metadata": {},
   "outputs": [
    {
     "data": {
      "text/plain": [
       "Date          object\n",
       "Open         float64\n",
       "High         float64\n",
       "Low          float64\n",
       "Close        float64\n",
       "Adj Close    float64\n",
       "Volume         int64\n",
       "dtype: object"
      ]
     },
     "execution_count": 8,
     "metadata": {},
     "output_type": "execute_result"
    }
   ],
   "source": [
    "netflix_data.dtypes"
   ]
  },
  {
   "cell_type": "code",
   "execution_count": 9,
   "id": "1263f6c4",
   "metadata": {},
   "outputs": [
    {
     "data": {
      "text/plain": [
       "0         1.196429\n",
       "1         1.210000\n",
       "2         1.157143\n",
       "3         1.103571\n",
       "4         1.071429\n",
       "           ...    \n",
       "5039    195.190002\n",
       "5040    197.440002\n",
       "5041    192.910004\n",
       "5042    205.089996\n",
       "5043    198.979996\n",
       "Name: Close, Length: 5044, dtype: float64"
      ]
     },
     "execution_count": 9,
     "metadata": {},
     "output_type": "execute_result"
    }
   ],
   "source": [
    "netflix_data1 = netflix_data.reset_index()['Close']\n",
    "netflix_data1"
   ]
  },
  {
   "cell_type": "code",
   "execution_count": 10,
   "id": "16220eea",
   "metadata": {},
   "outputs": [
    {
     "data": {
      "text/plain": [
       "(5044,)"
      ]
     },
     "execution_count": 10,
     "metadata": {},
     "output_type": "execute_result"
    }
   ],
   "source": [
    "netflix_data1.shape"
   ]
  },
  {
   "cell_type": "code",
   "execution_count": 11,
   "id": "7f7b99b4",
   "metadata": {},
   "outputs": [
    {
     "data": {
      "image/png": "[encoded data removed]",
      "text/plain": [
       "<Figure size 640x480 with 1 Axes>"
      ]
     },
     "metadata": {},
     "output_type": "display_data"
    }
   ],
   "source": [
    "plt.plot(netflix_data1);"
   ]
  },
  {
   "cell_type": "code",
   "execution_count": 12,
   "id": "8aa17576",
   "metadata": {},
   "outputs": [],
   "source": [
    "scaler=MinMaxScaler(feature_range=(0,1))\n",
    "netflix_data1=scaler.fit_transform(np.array(netflix_data1).reshape(-1,1))"
   ]
  },
  {
   "cell_type": "code",
   "execution_count": 13,
   "id": "28c9270e",
   "metadata": {},
   "outputs": [
    {
     "data": {
      "text/plain": [
       "array([[0.00119131],\n",
       "       [0.00121094],\n",
       "       [0.00113448],\n",
       "       ...,\n",
       "       [0.2785077 ],\n",
       "       [0.29612623],\n",
       "       [0.28728803]])"
      ]
     },
     "execution_count": 13,
     "metadata": {},
     "output_type": "execute_result"
    }
   ],
   "source": [
    "netflix_data1"
   ]
  },
  {
   "cell_type": "code",
   "execution_count": 14,
   "id": "62fdecf8",
   "metadata": {},
   "outputs": [
    {
     "data": {
      "text/plain": [
       "(5044, 1)"
      ]
     },
     "execution_count": 14,
     "metadata": {},
     "output_type": "execute_result"
    }
   ],
   "source": [
    "netflix_data1.shape"
   ]
  },
  {
   "cell_type": "markdown",
   "id": "3502ac12",
   "metadata": {},
   "source": [
    "## Preprocessing"
   ]
  },
  {
   "cell_type": "code",
   "execution_count": 15,
   "id": "5eba034b",
   "metadata": {},
   "outputs": [],
   "source": [
    "training_size=int(len(netflix_data1)*0.75)\n",
    "test_size=len(netflix_data1)-training_size\n",
    "train_data,test_data=netflix_data1[0:training_size,:],netflix_data1[training_size:len(netflix_data1), :1]"
   ]
  },
  {
   "cell_type": "code",
   "execution_count": 16,
   "id": "03359f48",
   "metadata": {},
   "outputs": [
    {
     "data": {
      "text/plain": [
       "(3783, 1261)"
      ]
     },
     "execution_count": 16,
     "metadata": {},
     "output_type": "execute_result"
    }
   ],
   "source": [
    "training_size,test_size"
   ]
  },
  {
   "cell_type": "code",
   "execution_count": 17,
   "id": "b74ec6a3",
   "metadata": {},
   "outputs": [
    {
     "data": {
      "text/plain": [
       "array([[0.00119131],\n",
       "       [0.00121094],\n",
       "       [0.00113448],\n",
       "       ...,\n",
       "       [0.23556069],\n",
       "       [0.23534372],\n",
       "       [0.235228  ]])"
      ]
     },
     "execution_count": 17,
     "metadata": {},
     "output_type": "execute_result"
    }
   ],
   "source": [
    "train_data"
   ]
  },
  {
   "cell_type": "code",
   "execution_count": 18,
   "id": "e23e7d0c",
   "metadata": {},
   "outputs": [
    {
     "data": {
      "text/plain": [
       "array([[0.23839585],\n",
       "       [0.23822227],\n",
       "       [0.23838139],\n",
       "       ...,\n",
       "       [0.2785077 ],\n",
       "       [0.29612623],\n",
       "       [0.28728803]])"
      ]
     },
     "execution_count": 18,
     "metadata": {},
     "output_type": "execute_result"
    }
   ],
   "source": [
    "test_data"
   ]
  },
  {
   "cell_type": "code",
   "execution_count": 19,
   "id": "c7506ddf",
   "metadata": {},
   "outputs": [],
   "source": [
    "# converting an array of values into a dataset matrix\n",
    "def create_dataset(dataset, time_step=1):\n",
    "    dataX, dataY = [], []\n",
    "    for i in range(len(dataset)-time_step-1):\n",
    "        a = dataset[i:(i+time_step), 0]\n",
    "        dataX.append(a)\n",
    "        dataY.append(dataset[i + time_step, 0])\n",
    "    return np.array(dataX), np.array(dataY)    "
   ]
  },
  {
   "cell_type": "code",
   "execution_count": 20,
   "id": "0989e9f8",
   "metadata": {},
   "outputs": [
    {
     "data": {
      "text/plain": [
       "(array([[1.19130851e-03, 1.21093916e-03, 1.13448076e-03, ...,\n",
       "         1.93213782e-04, 1.41551531e-04, 2.33509325e-04],\n",
       "        [1.21093916e-03, 1.13448076e-03, 1.05698811e-03, ...,\n",
       "         1.41551531e-04, 2.33509325e-04, 2.56239848e-04],\n",
       "        [1.13448076e-03, 1.05698811e-03, 1.01049425e-03, ...,\n",
       "         2.33509325e-04, 2.56239848e-04, 1.25020767e-04],\n",
       "        ...,\n",
       "        [1.83876737e-01, 1.86654053e-01, 1.90125678e-01, ...,\n",
       "         2.27937555e-01, 2.27648257e-01, 2.35314786e-01],\n",
       "        [1.86654053e-01, 1.90125678e-01, 1.89055271e-01, ...,\n",
       "         2.27648257e-01, 2.35314786e-01, 2.34417933e-01],\n",
       "        [1.90125678e-01, 1.89055271e-01, 1.88881675e-01, ...,\n",
       "         2.35314786e-01, 2.34417933e-01, 2.35560690e-01]]),\n",
       " array([2.56239848e-04, 1.25020767e-04, 2.56239848e-04, ...,\n",
       "        2.34417933e-01, 2.35560690e-01, 2.35343722e-01]))"
      ]
     },
     "execution_count": 20,
     "metadata": {},
     "output_type": "execute_result"
    }
   ],
   "source": [
    "time_step = 100\n",
    "X_train, y_train = create_dataset(train_data, time_step)\n",
    "X_test, y_test = create_dataset(test_data, time_step)\n",
    "X_train, y_train"
   ]
  },
  {
   "cell_type": "code",
   "execution_count": 21,
   "id": "3e77086b",
   "metadata": {},
   "outputs": [
    {
     "data": {
      "text/plain": [
       "((1160, 100), (1160,))"
      ]
     },
     "execution_count": 21,
     "metadata": {},
     "output_type": "execute_result"
    }
   ],
   "source": [
    "X_test.shape, y_test.shape"
   ]
  },
  {
   "cell_type": "code",
   "execution_count": 22,
   "id": "d0ed0ffe",
   "metadata": {},
   "outputs": [],
   "source": [
    "# reshaping req for LSTM\n",
    "X_train = X_train.reshape(X_train.shape[0],X_train.shape[1], 1)\n",
    "X_test = X_test.reshape(X_test.shape[0], X_test.shape[1], 1)"
   ]
  },
  {
   "cell_type": "markdown",
   "id": "07adebd8",
   "metadata": {},
   "source": [
    "# Creating the LSTM model"
   ]
  },
  {
   "cell_type": "code",
   "execution_count": 23,
   "id": "39e4c144",
   "metadata": {},
   "outputs": [],
   "source": [
    "model=Sequential()\n",
    "model.add(LSTM(50,return_sequences=True,input_shape=(100,1)))\n",
    "model.add(LSTM(50,return_sequences=True))\n",
    "model.add(LSTM(50))\n",
    "model.add(Dense(1))\n",
    "model.compile(loss=\"mean_squared_error\", optimizer='adam')"
   ]
  },
  {
   "cell_type": "code",
   "execution_count": 24,
   "id": "ede114dd",
   "metadata": {},
   "outputs": [
    {
     "name": "stdout",
     "output_type": "stream",
     "text": [
      "Model: \"sequential\"\n",
      "_________________________________________________________________\n",
      " Layer (type)                Output Shape              Param #   \n",
      "=================================================================\n",
      " lstm (LSTM)                 (None, 100, 50)           10400     \n",
      "                                                                 \n",
      " lstm_1 (LSTM)               (None, 100, 50)           20200     \n",
      "                                                                 \n",
      " lstm_2 (LSTM)               (None, 50)                20200     \n",
      "                                                                 \n",
      " dense (Dense)               (None, 1)                 51        \n",
      "                                                                 \n",
      "=================================================================\n",
      "Total params: 50851 (198.64 KB)\n",
      "Trainable params: 50851 (198.64 KB)\n",
      "Non-trainable params: 0 (0.00 Byte)\n",
      "_________________________________________________________________\n"
     ]
    }
   ],
   "source": [
    "model.summary()"
   ]
  },
  {
   "cell_type": "code",
   "execution_count": 25,
   "id": "59632d1b",
   "metadata": {},
   "outputs": [
    {
     "name": "stdout",
     "output_type": "stream",
     "text": [
      "Epoch 1/100\n",
      "58/58 [==============================] - 9s 115ms/step - loss: 4.3793e-04 - val_loss: 0.0023\n",
      "Epoch 2/100\n",
      "58/58 [==============================] - 6s 108ms/step - loss: 2.9781e-05 - val_loss: 0.0023\n",
      "Epoch 3/100\n",
      "58/58 [==============================] - 6s 111ms/step - loss: 3.1042e-05 - val_loss: 0.0023\n",
      "Epoch 4/100\n",
      "58/58 [==============================] - 7s 112ms/step - loss: 2.7458e-05 - val_loss: 0.0021\n",
      "Epoch 5/100\n",
      "58/58 [==============================] - 7s 116ms/step - loss: 2.7077e-05 - val_loss: 0.0021\n",
      "Epoch 6/100\n",
      "58/58 [==============================] - 7s 117ms/step - loss: 2.3459e-05 - val_loss: 0.0021\n",
      "Epoch 7/100\n",
      "58/58 [==============================] - 7s 116ms/step - loss: 2.3883e-05 - val_loss: 0.0021\n",
      "Epoch 8/100\n",
      "58/58 [==============================] - 7s 117ms/step - loss: 2.1839e-05 - val_loss: 0.0022\n",
      "Epoch 9/100\n",
      "58/58 [==============================] - 7s 114ms/step - loss: 2.4407e-05 - val_loss: 0.0019\n",
      "Epoch 10/100\n",
      "58/58 [==============================] - 7s 116ms/step - loss: 2.0890e-05 - val_loss: 0.0020\n",
      "Epoch 11/100\n",
      "58/58 [==============================] - 7s 115ms/step - loss: 2.0244e-05 - val_loss: 0.0020\n",
      "Epoch 12/100\n",
      "58/58 [==============================] - 7s 114ms/step - loss: 2.3179e-05 - val_loss: 0.0029\n",
      "Epoch 13/100\n",
      "58/58 [==============================] - 7s 117ms/step - loss: 1.7894e-05 - val_loss: 0.0018\n",
      "Epoch 14/100\n",
      "58/58 [==============================] - 7s 116ms/step - loss: 2.0267e-05 - val_loss: 0.0014\n",
      "Epoch 15/100\n",
      "58/58 [==============================] - 7s 122ms/step - loss: 1.9402e-05 - val_loss: 0.0019\n",
      "Epoch 16/100\n",
      "58/58 [==============================] - 7s 119ms/step - loss: 1.7820e-05 - val_loss: 0.0013\n",
      "Epoch 17/100\n",
      "58/58 [==============================] - 7s 119ms/step - loss: 1.6313e-05 - val_loss: 0.0019\n",
      "Epoch 18/100\n",
      "58/58 [==============================] - 7s 119ms/step - loss: 1.4923e-05 - val_loss: 0.0013\n",
      "Epoch 19/100\n",
      "58/58 [==============================] - 7s 122ms/step - loss: 1.9176e-05 - val_loss: 0.0018\n",
      "Epoch 20/100\n",
      "58/58 [==============================] - 7s 122ms/step - loss: 1.5961e-05 - val_loss: 0.0012\n",
      "Epoch 21/100\n",
      "58/58 [==============================] - 7s 123ms/step - loss: 1.5121e-05 - val_loss: 0.0020\n",
      "Epoch 22/100\n",
      "58/58 [==============================] - 7s 124ms/step - loss: 1.8090e-05 - val_loss: 0.0015\n",
      "Epoch 23/100\n",
      "58/58 [==============================] - 7s 126ms/step - loss: 1.3102e-05 - val_loss: 0.0015\n",
      "Epoch 24/100\n",
      "58/58 [==============================] - 7s 126ms/step - loss: 1.4183e-05 - val_loss: 0.0013\n",
      "Epoch 25/100\n",
      "58/58 [==============================] - 7s 129ms/step - loss: 1.4098e-05 - val_loss: 0.0011\n",
      "Epoch 26/100\n",
      "58/58 [==============================] - 8s 132ms/step - loss: 1.3109e-05 - val_loss: 0.0018\n",
      "Epoch 27/100\n",
      "58/58 [==============================] - 7s 129ms/step - loss: 1.3721e-05 - val_loss: 0.0015\n",
      "Epoch 28/100\n",
      "58/58 [==============================] - 7s 128ms/step - loss: 1.4338e-05 - val_loss: 0.0012\n",
      "Epoch 29/100\n",
      "58/58 [==============================] - 7s 129ms/step - loss: 1.4035e-05 - val_loss: 0.0013\n",
      "Epoch 30/100\n",
      "58/58 [==============================] - 7s 129ms/step - loss: 1.5046e-05 - val_loss: 8.3587e-04\n",
      "Epoch 31/100\n",
      "58/58 [==============================] - 8s 133ms/step - loss: 1.2154e-05 - val_loss: 0.0015\n",
      "Epoch 32/100\n",
      "58/58 [==============================] - 7s 127ms/step - loss: 1.2460e-05 - val_loss: 9.1060e-04\n",
      "Epoch 33/100\n",
      "58/58 [==============================] - 7s 118ms/step - loss: 1.3563e-05 - val_loss: 7.7637e-04\n",
      "Epoch 34/100\n",
      "58/58 [==============================] - 7s 117ms/step - loss: 1.2611e-05 - val_loss: 0.0015\n",
      "Epoch 35/100\n",
      "58/58 [==============================] - 7s 113ms/step - loss: 1.4965e-05 - val_loss: 7.5941e-04\n",
      "Epoch 36/100\n",
      "58/58 [==============================] - 7s 114ms/step - loss: 1.1118e-05 - val_loss: 8.2332e-04\n",
      "Epoch 37/100\n",
      "58/58 [==============================] - 7s 115ms/step - loss: 1.2286e-05 - val_loss: 0.0019\n",
      "Epoch 38/100\n",
      "58/58 [==============================] - 7s 115ms/step - loss: 1.1039e-05 - val_loss: 0.0013\n",
      "Epoch 39/100\n",
      "58/58 [==============================] - 7s 116ms/step - loss: 1.2445e-05 - val_loss: 0.0010\n",
      "Epoch 40/100\n",
      "58/58 [==============================] - 7s 118ms/step - loss: 1.0247e-05 - val_loss: 9.8869e-04\n",
      "Epoch 41/100\n",
      "58/58 [==============================] - 7s 119ms/step - loss: 1.1670e-05 - val_loss: 7.3328e-04\n",
      "Epoch 42/100\n",
      "58/58 [==============================] - 7s 119ms/step - loss: 1.0086e-05 - val_loss: 0.0013\n",
      "Epoch 43/100\n",
      "58/58 [==============================] - 7s 121ms/step - loss: 9.5887e-06 - val_loss: 0.0012\n",
      "Epoch 44/100\n",
      "58/58 [==============================] - 7s 123ms/step - loss: 9.2918e-06 - val_loss: 7.7765e-04\n",
      "Epoch 45/100\n",
      "58/58 [==============================] - 7s 124ms/step - loss: 1.1505e-05 - val_loss: 9.8850e-04\n",
      "Epoch 46/100\n",
      "58/58 [==============================] - 7s 125ms/step - loss: 1.0091e-05 - val_loss: 6.3395e-04\n",
      "Epoch 47/100\n",
      "58/58 [==============================] - 7s 126ms/step - loss: 9.5598e-06 - val_loss: 6.3441e-04\n",
      "Epoch 48/100\n",
      "58/58 [==============================] - 7s 128ms/step - loss: 9.5139e-06 - val_loss: 8.7174e-04\n",
      "Epoch 49/100\n",
      "58/58 [==============================] - 8s 130ms/step - loss: 8.4371e-06 - val_loss: 8.6297e-04\n",
      "Epoch 50/100\n",
      "58/58 [==============================] - 8s 130ms/step - loss: 9.6814e-06 - val_loss: 5.8858e-04\n",
      "Epoch 51/100\n",
      "58/58 [==============================] - 8s 130ms/step - loss: 7.9214e-06 - val_loss: 5.9112e-04\n",
      "Epoch 52/100\n",
      "58/58 [==============================] - 8s 134ms/step - loss: 7.7399e-06 - val_loss: 5.9188e-04\n",
      "Epoch 53/100\n",
      "58/58 [==============================] - 8s 133ms/step - loss: 7.5639e-06 - val_loss: 5.7308e-04\n",
      "Epoch 54/100\n",
      "58/58 [==============================] - 8s 137ms/step - loss: 7.3562e-06 - val_loss: 4.5217e-04\n",
      "Epoch 55/100\n",
      "58/58 [==============================] - 8s 131ms/step - loss: 7.9390e-06 - val_loss: 4.9202e-04\n",
      "Epoch 56/100\n",
      "58/58 [==============================] - 8s 132ms/step - loss: 7.8011e-06 - val_loss: 4.7491e-04\n",
      "Epoch 57/100\n",
      "58/58 [==============================] - 8s 133ms/step - loss: 8.2113e-06 - val_loss: 6.0579e-04\n",
      "Epoch 58/100\n",
      "58/58 [==============================] - 8s 134ms/step - loss: 9.0828e-06 - val_loss: 4.5854e-04\n",
      "Epoch 59/100\n",
      "58/58 [==============================] - 7s 124ms/step - loss: 7.0241e-06 - val_loss: 4.5372e-04\n",
      "Epoch 60/100\n",
      "58/58 [==============================] - 7s 123ms/step - loss: 6.3567e-06 - val_loss: 4.3548e-04\n",
      "Epoch 61/100\n",
      "58/58 [==============================] - 7s 125ms/step - loss: 6.7146e-06 - val_loss: 0.0010\n",
      "Epoch 62/100\n",
      "58/58 [==============================] - 238s 4s/step - loss: 6.3466e-06 - val_loss: 4.0740e-04\n",
      "Epoch 63/100\n",
      "58/58 [==============================] - 61s 1s/step - loss: 6.5662e-06 - val_loss: 6.2720e-04\n",
      "Epoch 64/100\n",
      "58/58 [==============================] - 7s 120ms/step - loss: 6.3686e-06 - val_loss: 5.4830e-04\n",
      "Epoch 65/100\n",
      "58/58 [==============================] - 42s 727ms/step - loss: 5.5813e-06 - val_loss: 0.0010\n",
      "Epoch 66/100\n",
      "58/58 [==============================] - 7s 118ms/step - loss: 5.2366e-06 - val_loss: 7.0370e-04\n",
      "Epoch 67/100\n",
      "58/58 [==============================] - 109s 2s/step - loss: 5.4799e-06 - val_loss: 0.0016\n",
      "Epoch 68/100\n",
      "58/58 [==============================] - 101s 2s/step - loss: 7.3085e-06 - val_loss: 4.6121e-04\n",
      "Epoch 69/100\n",
      "58/58 [==============================] - 48s 835ms/step - loss: 5.3173e-06 - val_loss: 4.9235e-04\n",
      "Epoch 70/100\n",
      "58/58 [==============================] - 3216s 56s/step - loss: 5.3814e-06 - val_loss: 9.5293e-04\n",
      "Epoch 71/100\n",
      "58/58 [==============================] - 1057s 19s/step - loss: 5.6844e-06 - val_loss: 3.5370e-04\n",
      "Epoch 72/100\n",
      "58/58 [==============================] - 2310s 41s/step - loss: 5.8129e-06 - val_loss: 5.0986e-04\n",
      "Epoch 73/100\n",
      "58/58 [==============================] - 7s 124ms/step - loss: 5.1557e-06 - val_loss: 7.3928e-04\n",
      "Epoch 74/100\n",
      "58/58 [==============================] - 1856s 33s/step - loss: 4.7255e-06 - val_loss: 5.9442e-04\n",
      "Epoch 75/100\n",
      "58/58 [==============================] - 7s 119ms/step - loss: 4.8147e-06 - val_loss: 5.3685e-04\n",
      "Epoch 76/100\n",
      "58/58 [==============================] - 7s 118ms/step - loss: 5.0101e-06 - val_loss: 3.3313e-04\n"
     ]
    },
    {
     "name": "stdout",
     "output_type": "stream",
     "text": [
      "Epoch 77/100\n",
      "58/58 [==============================] - 109s 2s/step - loss: 4.7927e-06 - val_loss: 4.1166e-04\n",
      "Epoch 78/100\n",
      "58/58 [==============================] - 7s 117ms/step - loss: 4.8682e-06 - val_loss: 4.3017e-04\n",
      "Epoch 79/100\n",
      "58/58 [==============================] - 7s 117ms/step - loss: 4.7609e-06 - val_loss: 8.1547e-04\n",
      "Epoch 80/100\n",
      "58/58 [==============================] - 7s 117ms/step - loss: 4.5907e-06 - val_loss: 5.4389e-04\n",
      "Epoch 81/100\n",
      "58/58 [==============================] - 7s 118ms/step - loss: 4.5596e-06 - val_loss: 4.4660e-04\n",
      "Epoch 82/100\n",
      "58/58 [==============================] - 7s 117ms/step - loss: 3.9569e-06 - val_loss: 5.3875e-04\n",
      "Epoch 83/100\n",
      "58/58 [==============================] - 3848s 68s/step - loss: 5.3810e-06 - val_loss: 0.0010\n",
      "Epoch 84/100\n",
      "58/58 [==============================] - 7s 118ms/step - loss: 4.7535e-06 - val_loss: 9.7554e-04\n",
      "Epoch 85/100\n",
      "58/58 [==============================] - 7s 121ms/step - loss: 4.4849e-06 - val_loss: 4.0376e-04\n",
      "Epoch 86/100\n",
      "58/58 [==============================] - 7s 118ms/step - loss: 4.3875e-06 - val_loss: 3.4440e-04\n",
      "Epoch 87/100\n",
      "58/58 [==============================] - 7s 117ms/step - loss: 4.4433e-06 - val_loss: 8.6182e-04\n",
      "Epoch 88/100\n",
      "58/58 [==============================] - 3933s 69s/step - loss: 4.9098e-06 - val_loss: 4.4723e-04\n",
      "Epoch 89/100\n",
      "58/58 [==============================] - 997s 17s/step - loss: 6.6874e-06 - val_loss: 0.0013\n",
      "Epoch 90/100\n",
      "58/58 [==============================] - 999s 18s/step - loss: 5.1631e-06 - val_loss: 5.5831e-04\n",
      "Epoch 91/100\n",
      "58/58 [==============================] - 7s 124ms/step - loss: 4.8924e-06 - val_loss: 0.0010\n",
      "Epoch 92/100\n",
      "58/58 [==============================] - 7s 120ms/step - loss: 4.6465e-06 - val_loss: 8.9154e-04\n",
      "Epoch 93/100\n",
      "58/58 [==============================] - 7s 118ms/step - loss: 4.5392e-06 - val_loss: 5.6580e-04\n",
      "Epoch 94/100\n",
      "58/58 [==============================] - 7s 117ms/step - loss: 4.1583e-06 - val_loss: 4.1716e-04\n",
      "Epoch 95/100\n",
      "58/58 [==============================] - 7s 119ms/step - loss: 4.0045e-06 - val_loss: 4.0099e-04\n",
      "Epoch 96/100\n",
      "58/58 [==============================] - 7s 119ms/step - loss: 5.0247e-06 - val_loss: 8.6026e-04\n",
      "Epoch 97/100\n",
      "58/58 [==============================] - 7s 119ms/step - loss: 4.9421e-06 - val_loss: 8.3466e-04\n",
      "Epoch 98/100\n",
      "58/58 [==============================] - 7s 119ms/step - loss: 4.3293e-06 - val_loss: 5.7116e-04\n",
      "Epoch 99/100\n",
      "58/58 [==============================] - 7s 118ms/step - loss: 5.3018e-06 - val_loss: 5.1928e-04\n",
      "Epoch 100/100\n",
      "58/58 [==============================] - 7s 117ms/step - loss: 5.0164e-06 - val_loss: 6.1837e-04\n"
     ]
    },
    {
     "data": {
      "text/plain": [
       "<keras.src.callbacks.History at 0x1658f9210>"
      ]
     },
     "execution_count": 25,
     "metadata": {},
     "output_type": "execute_result"
    }
   ],
   "source": [
    "model.fit(X_train,y_train,validation_data=(X_test,y_test),epochs=100,batch_size=64,verbose=1)"
   ]
  },
  {
   "cell_type": "markdown",
   "id": "fd408f88",
   "metadata": {},
   "source": [
    "# Predicting test data and ploting the output"
   ]
  },
  {
   "cell_type": "code",
   "execution_count": 70,
   "id": "b5680ec4",
   "metadata": {},
   "outputs": [
    {
     "name": "stdout",
     "output_type": "stream",
     "text": [
      "116/116 [==============================] - 2s 17ms/step\n",
      "37/37 [==============================] - 1s 17ms/step\n"
     ]
    }
   ],
   "source": [
    "# Let's do the prediction and check performance metrics\n",
    "train_predict=model.predict(X_train)\n",
    "test_predict=model.predict(X_test)"
   ]
  },
  {
   "cell_type": "code",
   "execution_count": 71,
   "id": "a63f432b",
   "metadata": {},
   "outputs": [],
   "source": [
    "train_predict=scaler.inverse_transform(train_predict)\n",
    "test_predict=scaler.inverse_transform(test_predict)"
   ]
  },
  {
   "cell_type": "code",
   "execution_count": 72,
   "id": "f840b7b6",
   "metadata": {},
   "outputs": [
    {
     "data": {
      "text/plain": [
       "47.395435520285"
      ]
     },
     "execution_count": 72,
     "metadata": {},
     "output_type": "execute_result"
    }
   ],
   "source": [
    "# Calculating Root Mean Squared Error\n",
    "math.sqrt(mean_squared_error(y_train,train_predict))"
   ]
  },
  {
   "cell_type": "code",
   "execution_count": 73,
   "id": "941a65c5",
   "metadata": {},
   "outputs": [
    {
     "data": {
      "text/plain": [
       "403.0446924214195"
      ]
     },
     "execution_count": 73,
     "metadata": {},
     "output_type": "execute_result"
    }
   ],
   "source": [
    "# Test data RMSE\n",
    "math.sqrt(mean_squared_error(y_test,test_predict))"
   ]
  },
  {
   "cell_type": "code",
   "execution_count": 36,
   "id": "18eb993f",
   "metadata": {},
   "outputs": [
    {
     "data": {
      "image/png": "[encoded data removed]",
      "text/plain": [
       "<Figure size 640x480 with 1 Axes>"
      ]
     },
     "metadata": {},
     "output_type": "display_data"
    }
   ],
   "source": [
    "# shift train predictions for plotting\n",
    "look_back=100\n",
    "trainPredictPlot = np.empty_like(netflix_data1)\n",
    "trainPredictPlot[:, :] = np.nan\n",
    "trainPredictPlot[look_back:len(train_predict)+look_back, :] = train_predict\n",
    "# shift test predictions for plotting\n",
    "testPredictPlot = np.empty_like(netflix_data1)\n",
    "testPredictPlot[:, :] = np.nan\n",
    "testPredictPlot[len(train_predict)+(look_back*2)+1:len(netflix_data1)-1, :] = test_predict\n",
    "#plot baseline and predictions\n",
    "plt.plot(scaler.inverse_transform(netflix_data1))\n",
    "plt.plot(trainPredictPlot)\n",
    "plt.plot(testPredictPlot)\n",
    "plt.show()"
   ]
  },
  {
   "cell_type": "markdown",
   "id": "19ad340c",
   "metadata": {},
   "source": [
    "## Predicting the Future for 30 days and plot the output"
   ]
  },
  {
   "cell_type": "code",
   "execution_count": 37,
   "id": "d09f498f",
   "metadata": {},
   "outputs": [
    {
     "data": {
      "text/plain": [
       "1261"
      ]
     },
     "execution_count": 37,
     "metadata": {},
     "output_type": "execute_result"
    }
   ],
   "source": [
    "len(test_data)"
   ]
  },
  {
   "cell_type": "code",
   "execution_count": 42,
   "id": "d1af64fe",
   "metadata": {},
   "outputs": [
    {
     "data": {
      "text/plain": [
       "(1, 100)"
      ]
     },
     "execution_count": 42,
     "metadata": {},
     "output_type": "execute_result"
    }
   ],
   "source": [
    "x_input=test_data[1161:].reshape(1, -1)\n",
    "x_input.shape"
   ]
  },
  {
   "cell_type": "code",
   "execution_count": 39,
   "id": "60ff7971",
   "metadata": {},
   "outputs": [],
   "source": [
    "temp_input=list(x_input)\n",
    "temp_input=temp_input[0].tolist()"
   ]
  },
  {
   "cell_type": "code",
   "execution_count": 40,
   "id": "ae5aba16",
   "metadata": {},
   "outputs": [
    {
     "data": {
      "text/plain": [
       "[0.781793383700906,\n",
       " 0.7765569216426708,\n",
       " 0.7504907968107748,\n",
       " 0.7598786588751534,\n",
       " 0.7383400436278778,\n",
       " 0.7456594006503339,\n",
       " 0.7346514500229846,\n",
       " 0.5744500130978235,\n",
       " 0.559478583451015,\n",
       " 0.5294923735762403,\n",
       " 0.5197717973564795,\n",
       " 0.5588276781418461,\n",
       " 0.5554427960845668,\n",
       " 0.6173247128132485,\n",
       " 0.6607056563019277,\n",
       " 0.6207095500285906,\n",
       " 0.586166786012518,\n",
       " 0.5927773655895658,\n",
       " 0.581103986651452,\n",
       " 0.5831724916933745,\n",
       " 0.596711886843194,\n",
       " 0.5871359258708967,\n",
       " 0.5654960879062242,\n",
       " 0.5731047651074818,\n",
       " 0.5888572805466873,\n",
       " 0.575288972472974,\n",
       " 0.5587842841652653,\n",
       " 0.5654671735358161,\n",
       " 0.54534615657478,\n",
       " 0.5309967164202183,\n",
       " 0.5636445513006912,\n",
       " 0.5647583512484706,\n",
       " 0.5701393851587464,\n",
       " 0.5581622498310813,\n",
       " 0.549179410269074,\n",
       " 0.5318791131673726,\n",
       " 0.5227082195393836,\n",
       " 0.5061167013296046,\n",
       " 0.49382133145273,\n",
       " 0.51845546518306,\n",
       " 0.5155334777643913,\n",
       " 0.4917383468046347,\n",
       " 0.4782713048437414,\n",
       " 0.49669988005288074,\n",
       " 0.5166328429479351,\n",
       " 0.5366959863262177,\n",
       " 0.5500039334334749,\n",
       " 0.5413103692083319,\n",
       " 0.5533598562784088,\n",
       " 0.541165709118931,\n",
       " 0.5429304577713026,\n",
       " 0.5402399632371333,\n",
       " 0.5469807247439233,\n",
       " 0.5662338231174635,\n",
       " 0.5512623934706551,\n",
       " 0.5413103692083319,\n",
       " 0.5396902806453613,\n",
       " 0.5657709284788531,\n",
       " 0.5493529847288828,\n",
       " 0.5322841356697438,\n",
       " 0.5233157308719718,\n",
       " 0.5142461033568029,\n",
       " 0.502847564991318,\n",
       " 0.497206168668072,\n",
       " 0.5063625841364023,\n",
       " 0.4929100203351675,\n",
       " 0.4881798902875466,\n",
       " 0.5037299168965351,\n",
       " 0.32664768497821645,\n",
       " 0.31511896612950335,\n",
       " 0.31121338239050905,\n",
       " 0.30309843827177174,\n",
       " 0.28644904647923924,\n",
       " 0.27218641597555054,\n",
       " 0.2880691567399214,\n",
       " 0.2748190832154177,\n",
       " 0.287982370233274,\n",
       " 0.2885754236574011,\n",
       " 0.29456399204449063,\n",
       " 0.2718682031240524,\n",
       " 0.26123631578672907,\n",
       " 0.2498522570274168,\n",
       " 0.25644835844480607,\n",
       " 0.24011720120148325,\n",
       " 0.2516025275201297,\n",
       " 0.27088456196178956,\n",
       " 0.26924999523916043,\n",
       " 0.27510838169650775,\n",
       " 0.2557684939232919,\n",
       " 0.2648670589530945,\n",
       " 0.2690185688943097,\n",
       " 0.27059526348069957,\n",
       " 0.2603250046691667,\n",
       " 0.27115940398093263,\n",
       " 0.27632344775710715,\n",
       " 0.2818057477802029,\n",
       " 0.2850604045123168,\n",
       " 0.2785076985180224,\n",
       " 0.29612622872241945,\n",
       " 0.28728802755210125]"
      ]
     },
     "execution_count": 40,
     "metadata": {},
     "output_type": "execute_result"
    }
   ],
   "source": [
    "temp_input\n"
   ]
  },
  {
   "cell_type": "code",
   "execution_count": 44,
   "id": "17e46406",
   "metadata": {},
   "outputs": [
    {
     "name": "stdout",
     "output_type": "stream",
     "text": [
      "[0.2861357]\n",
      "101\n",
      "1 day input [0.77655692 0.7504908  0.75987866 0.73834004 0.7456594  0.73465145\n",
      " 0.57445001 0.55947858 0.52949237 0.5197718  0.55882768 0.5554428\n",
      " 0.61732471 0.66070566 0.62070955 0.58616679 0.59277737 0.58110399\n",
      " 0.58317249 0.59671189 0.58713593 0.56549609 0.57310477 0.58885728\n",
      " 0.57528897 0.55878428 0.56546717 0.54534616 0.53099672 0.56364455\n",
      " 0.56475835 0.57013939 0.55816225 0.54917941 0.53187911 0.52270822\n",
      " 0.5061167  0.49382133 0.51845547 0.51553348 0.49173835 0.4782713\n",
      " 0.49669988 0.51663284 0.53669599 0.55000393 0.54131037 0.55335986\n",
      " 0.54116571 0.54293046 0.54023996 0.54698072 0.56623382 0.55126239\n",
      " 0.54131037 0.53969028 0.56577093 0.54935298 0.53228414 0.52331573\n",
      " 0.5142461  0.50284756 0.49720617 0.50636258 0.49291002 0.48817989\n",
      " 0.50372992 0.32664768 0.31511897 0.31121338 0.30309844 0.28644905\n",
      " 0.27218642 0.28806916 0.27481908 0.28798237 0.28857542 0.29456399\n",
      " 0.2718682  0.26123632 0.24985226 0.25644836 0.2401172  0.25160253\n",
      " 0.27088456 0.26925    0.27510838 0.25576849 0.26486706 0.26901857\n",
      " 0.27059526 0.260325   0.2711594  0.27632345 0.28180575 0.2850604\n",
      " 0.2785077  0.29612623 0.28728803 0.2861357 ]\n",
      "1 day output [[0.28344584]]\n",
      "2 day input [0.7504908  0.75987866 0.73834004 0.7456594  0.73465145 0.57445001\n",
      " 0.55947858 0.52949237 0.5197718  0.55882768 0.5554428  0.61732471\n",
      " 0.66070566 0.62070955 0.58616679 0.59277737 0.58110399 0.58317249\n",
      " 0.59671189 0.58713593 0.56549609 0.57310477 0.58885728 0.57528897\n",
      " 0.55878428 0.56546717 0.54534616 0.53099672 0.56364455 0.56475835\n",
      " 0.57013939 0.55816225 0.54917941 0.53187911 0.52270822 0.5061167\n",
      " 0.49382133 0.51845547 0.51553348 0.49173835 0.4782713  0.49669988\n",
      " 0.51663284 0.53669599 0.55000393 0.54131037 0.55335986 0.54116571\n",
      " 0.54293046 0.54023996 0.54698072 0.56623382 0.55126239 0.54131037\n",
      " 0.53969028 0.56577093 0.54935298 0.53228414 0.52331573 0.5142461\n",
      " 0.50284756 0.49720617 0.50636258 0.49291002 0.48817989 0.50372992\n",
      " 0.32664768 0.31511897 0.31121338 0.30309844 0.28644905 0.27218642\n",
      " 0.28806916 0.27481908 0.28798237 0.28857542 0.29456399 0.2718682\n",
      " 0.26123632 0.24985226 0.25644836 0.2401172  0.25160253 0.27088456\n",
      " 0.26925    0.27510838 0.25576849 0.26486706 0.26901857 0.27059526\n",
      " 0.260325   0.2711594  0.27632345 0.28180575 0.2850604  0.2785077\n",
      " 0.29612623 0.28728803 0.2861357  0.28344584]\n",
      "2 day output [[0.28105274]]\n",
      "3 day input [0.75987866 0.73834004 0.7456594  0.73465145 0.57445001 0.55947858\n",
      " 0.52949237 0.5197718  0.55882768 0.5554428  0.61732471 0.66070566\n",
      " 0.62070955 0.58616679 0.59277737 0.58110399 0.58317249 0.59671189\n",
      " 0.58713593 0.56549609 0.57310477 0.58885728 0.57528897 0.55878428\n",
      " 0.56546717 0.54534616 0.53099672 0.56364455 0.56475835 0.57013939\n",
      " 0.55816225 0.54917941 0.53187911 0.52270822 0.5061167  0.49382133\n",
      " 0.51845547 0.51553348 0.49173835 0.4782713  0.49669988 0.51663284\n",
      " 0.53669599 0.55000393 0.54131037 0.55335986 0.54116571 0.54293046\n",
      " 0.54023996 0.54698072 0.56623382 0.55126239 0.54131037 0.53969028\n",
      " 0.56577093 0.54935298 0.53228414 0.52331573 0.5142461  0.50284756\n",
      " 0.49720617 0.50636258 0.49291002 0.48817989 0.50372992 0.32664768\n",
      " 0.31511897 0.31121338 0.30309844 0.28644905 0.27218642 0.28806916\n",
      " 0.27481908 0.28798237 0.28857542 0.29456399 0.2718682  0.26123632\n",
      " 0.24985226 0.25644836 0.2401172  0.25160253 0.27088456 0.26925\n",
      " 0.27510838 0.25576849 0.26486706 0.26901857 0.27059526 0.260325\n",
      " 0.2711594  0.27632345 0.28180575 0.2850604  0.2785077  0.29612623\n",
      " 0.28728803 0.2861357  0.28344584 0.28105274]\n",
      "3 day output [[0.27891722]]\n",
      "4 day input [0.73834004 0.7456594  0.73465145 0.57445001 0.55947858 0.52949237\n",
      " 0.5197718  0.55882768 0.5554428  0.61732471 0.66070566 0.62070955\n",
      " 0.58616679 0.59277737 0.58110399 0.58317249 0.59671189 0.58713593\n",
      " 0.56549609 0.57310477 0.58885728 0.57528897 0.55878428 0.56546717\n",
      " 0.54534616 0.53099672 0.56364455 0.56475835 0.57013939 0.55816225\n",
      " 0.54917941 0.53187911 0.52270822 0.5061167  0.49382133 0.51845547\n",
      " 0.51553348 0.49173835 0.4782713  0.49669988 0.51663284 0.53669599\n",
      " 0.55000393 0.54131037 0.55335986 0.54116571 0.54293046 0.54023996\n",
      " 0.54698072 0.56623382 0.55126239 0.54131037 0.53969028 0.56577093\n",
      " 0.54935298 0.53228414 0.52331573 0.5142461  0.50284756 0.49720617\n",
      " 0.50636258 0.49291002 0.48817989 0.50372992 0.32664768 0.31511897\n",
      " 0.31121338 0.30309844 0.28644905 0.27218642 0.28806916 0.27481908\n",
      " 0.28798237 0.28857542 0.29456399 0.2718682  0.26123632 0.24985226\n",
      " 0.25644836 0.2401172  0.25160253 0.27088456 0.26925    0.27510838\n",
      " 0.25576849 0.26486706 0.26901857 0.27059526 0.260325   0.2711594\n",
      " 0.27632345 0.28180575 0.2850604  0.2785077  0.29612623 0.28728803\n",
      " 0.2861357  0.28344584 0.28105274 0.27891722]\n",
      "4 day output [[0.27686268]]\n",
      "5 day input [0.7456594  0.73465145 0.57445001 0.55947858 0.52949237 0.5197718\n",
      " 0.55882768 0.5554428  0.61732471 0.66070566 0.62070955 0.58616679\n",
      " 0.59277737 0.58110399 0.58317249 0.59671189 0.58713593 0.56549609\n",
      " 0.57310477 0.58885728 0.57528897 0.55878428 0.56546717 0.54534616\n",
      " 0.53099672 0.56364455 0.56475835 0.57013939 0.55816225 0.54917941\n",
      " 0.53187911 0.52270822 0.5061167  0.49382133 0.51845547 0.51553348\n",
      " 0.49173835 0.4782713  0.49669988 0.51663284 0.53669599 0.55000393\n",
      " 0.54131037 0.55335986 0.54116571 0.54293046 0.54023996 0.54698072\n",
      " 0.56623382 0.55126239 0.54131037 0.53969028 0.56577093 0.54935298\n",
      " 0.53228414 0.52331573 0.5142461  0.50284756 0.49720617 0.50636258\n",
      " 0.49291002 0.48817989 0.50372992 0.32664768 0.31511897 0.31121338\n",
      " 0.30309844 0.28644905 0.27218642 0.28806916 0.27481908 0.28798237\n",
      " 0.28857542 0.29456399 0.2718682  0.26123632 0.24985226 0.25644836\n",
      " 0.2401172  0.25160253 0.27088456 0.26925    0.27510838 0.25576849\n",
      " 0.26486706 0.26901857 0.27059526 0.260325   0.2711594  0.27632345\n",
      " 0.28180575 0.2850604  0.2785077  0.29612623 0.28728803 0.2861357\n",
      " 0.28344584 0.28105274 0.27891722 0.27686268]\n",
      "5 day output [[0.27470663]]\n",
      "6 day input [0.73465145 0.57445001 0.55947858 0.52949237 0.5197718  0.55882768\n",
      " 0.5554428  0.61732471 0.66070566 0.62070955 0.58616679 0.59277737\n",
      " 0.58110399 0.58317249 0.59671189 0.58713593 0.56549609 0.57310477\n",
      " 0.58885728 0.57528897 0.55878428 0.56546717 0.54534616 0.53099672\n",
      " 0.56364455 0.56475835 0.57013939 0.55816225 0.54917941 0.53187911\n",
      " 0.52270822 0.5061167  0.49382133 0.51845547 0.51553348 0.49173835\n",
      " 0.4782713  0.49669988 0.51663284 0.53669599 0.55000393 0.54131037\n",
      " 0.55335986 0.54116571 0.54293046 0.54023996 0.54698072 0.56623382\n",
      " 0.55126239 0.54131037 0.53969028 0.56577093 0.54935298 0.53228414\n",
      " 0.52331573 0.5142461  0.50284756 0.49720617 0.50636258 0.49291002\n",
      " 0.48817989 0.50372992 0.32664768 0.31511897 0.31121338 0.30309844\n",
      " 0.28644905 0.27218642 0.28806916 0.27481908 0.28798237 0.28857542\n",
      " 0.29456399 0.2718682  0.26123632 0.24985226 0.25644836 0.2401172\n",
      " 0.25160253 0.27088456 0.26925    0.27510838 0.25576849 0.26486706\n",
      " 0.26901857 0.27059526 0.260325   0.2711594  0.27632345 0.28180575\n",
      " 0.2850604  0.2785077  0.29612623 0.28728803 0.2861357  0.28344584\n",
      " 0.28105274 0.27891722 0.27686268 0.27470663]\n",
      "6 day output [[0.27232265]]\n",
      "7 day input [0.57445001 0.55947858 0.52949237 0.5197718  0.55882768 0.5554428\n",
      " 0.61732471 0.66070566 0.62070955 0.58616679 0.59277737 0.58110399\n",
      " 0.58317249 0.59671189 0.58713593 0.56549609 0.57310477 0.58885728\n",
      " 0.57528897 0.55878428 0.56546717 0.54534616 0.53099672 0.56364455\n",
      " 0.56475835 0.57013939 0.55816225 0.54917941 0.53187911 0.52270822\n",
      " 0.5061167  0.49382133 0.51845547 0.51553348 0.49173835 0.4782713\n",
      " 0.49669988 0.51663284 0.53669599 0.55000393 0.54131037 0.55335986\n",
      " 0.54116571 0.54293046 0.54023996 0.54698072 0.56623382 0.55126239\n",
      " 0.54131037 0.53969028 0.56577093 0.54935298 0.53228414 0.52331573\n",
      " 0.5142461  0.50284756 0.49720617 0.50636258 0.49291002 0.48817989\n",
      " 0.50372992 0.32664768 0.31511897 0.31121338 0.30309844 0.28644905\n",
      " 0.27218642 0.28806916 0.27481908 0.28798237 0.28857542 0.29456399\n",
      " 0.2718682  0.26123632 0.24985226 0.25644836 0.2401172  0.25160253\n",
      " 0.27088456 0.26925    0.27510838 0.25576849 0.26486706 0.26901857\n",
      " 0.27059526 0.260325   0.2711594  0.27632345 0.28180575 0.2850604\n",
      " 0.2785077  0.29612623 0.28728803 0.2861357  0.28344584 0.28105274\n",
      " 0.27891722 0.27686268 0.27470663 0.27232265]\n",
      "7 day output [[0.26966166]]\n",
      "8 day input [0.55947858 0.52949237 0.5197718  0.55882768 0.5554428  0.61732471\n",
      " 0.66070566 0.62070955 0.58616679 0.59277737 0.58110399 0.58317249\n",
      " 0.59671189 0.58713593 0.56549609 0.57310477 0.58885728 0.57528897\n",
      " 0.55878428 0.56546717 0.54534616 0.53099672 0.56364455 0.56475835\n",
      " 0.57013939 0.55816225 0.54917941 0.53187911 0.52270822 0.5061167\n",
      " 0.49382133 0.51845547 0.51553348 0.49173835 0.4782713  0.49669988\n",
      " 0.51663284 0.53669599 0.55000393 0.54131037 0.55335986 0.54116571\n",
      " 0.54293046 0.54023996 0.54698072 0.56623382 0.55126239 0.54131037\n",
      " 0.53969028 0.56577093 0.54935298 0.53228414 0.52331573 0.5142461\n",
      " 0.50284756 0.49720617 0.50636258 0.49291002 0.48817989 0.50372992\n",
      " 0.32664768 0.31511897 0.31121338 0.30309844 0.28644905 0.27218642\n",
      " 0.28806916 0.27481908 0.28798237 0.28857542 0.29456399 0.2718682\n",
      " 0.26123632 0.24985226 0.25644836 0.2401172  0.25160253 0.27088456\n",
      " 0.26925    0.27510838 0.25576849 0.26486706 0.26901857 0.27059526\n",
      " 0.260325   0.2711594  0.27632345 0.28180575 0.2850604  0.2785077\n",
      " 0.29612623 0.28728803 0.2861357  0.28344584 0.28105274 0.27891722\n",
      " 0.27686268 0.27470663 0.27232265 0.26966166]\n",
      "8 day output [[0.26673895]]\n",
      "9 day input [0.52949237 0.5197718  0.55882768 0.5554428  0.61732471 0.66070566\n",
      " 0.62070955 0.58616679 0.59277737 0.58110399 0.58317249 0.59671189\n",
      " 0.58713593 0.56549609 0.57310477 0.58885728 0.57528897 0.55878428\n",
      " 0.56546717 0.54534616 0.53099672 0.56364455 0.56475835 0.57013939\n",
      " 0.55816225 0.54917941 0.53187911 0.52270822 0.5061167  0.49382133\n",
      " 0.51845547 0.51553348 0.49173835 0.4782713  0.49669988 0.51663284\n",
      " 0.53669599 0.55000393 0.54131037 0.55335986 0.54116571 0.54293046\n",
      " 0.54023996 0.54698072 0.56623382 0.55126239 0.54131037 0.53969028\n",
      " 0.56577093 0.54935298 0.53228414 0.52331573 0.5142461  0.50284756\n",
      " 0.49720617 0.50636258 0.49291002 0.48817989 0.50372992 0.32664768\n",
      " 0.31511897 0.31121338 0.30309844 0.28644905 0.27218642 0.28806916\n",
      " 0.27481908 0.28798237 0.28857542 0.29456399 0.2718682  0.26123632\n",
      " 0.24985226 0.25644836 0.2401172  0.25160253 0.27088456 0.26925\n",
      " 0.27510838 0.25576849 0.26486706 0.26901857 0.27059526 0.260325\n",
      " 0.2711594  0.27632345 0.28180575 0.2850604  0.2785077  0.29612623\n",
      " 0.28728803 0.2861357  0.28344584 0.28105274 0.27891722 0.27686268\n",
      " 0.27470663 0.27232265 0.26966166 0.26673895]\n",
      "9 day output [[0.26360792]]\n",
      "10 day input [0.5197718  0.55882768 0.5554428  0.61732471 0.66070566 0.62070955\n",
      " 0.58616679 0.59277737 0.58110399 0.58317249 0.59671189 0.58713593\n",
      " 0.56549609 0.57310477 0.58885728 0.57528897 0.55878428 0.56546717\n",
      " 0.54534616 0.53099672 0.56364455 0.56475835 0.57013939 0.55816225\n",
      " 0.54917941 0.53187911 0.52270822 0.5061167  0.49382133 0.51845547\n",
      " 0.51553348 0.49173835 0.4782713  0.49669988 0.51663284 0.53669599\n",
      " 0.55000393 0.54131037 0.55335986 0.54116571 0.54293046 0.54023996\n",
      " 0.54698072 0.56623382 0.55126239 0.54131037 0.53969028 0.56577093\n",
      " 0.54935298 0.53228414 0.52331573 0.5142461  0.50284756 0.49720617\n",
      " 0.50636258 0.49291002 0.48817989 0.50372992 0.32664768 0.31511897\n",
      " 0.31121338 0.30309844 0.28644905 0.27218642 0.28806916 0.27481908\n",
      " 0.28798237 0.28857542 0.29456399 0.2718682  0.26123632 0.24985226\n",
      " 0.25644836 0.2401172  0.25160253 0.27088456 0.26925    0.27510838\n",
      " 0.25576849 0.26486706 0.26901857 0.27059526 0.260325   0.2711594\n",
      " 0.27632345 0.28180575 0.2850604  0.2785077  0.29612623 0.28728803\n",
      " 0.2861357  0.28344584 0.28105274 0.27891722 0.27686268 0.27470663\n",
      " 0.27232265 0.26966166 0.26673895 0.26360792]\n",
      "10 day output [[0.2603341]]\n",
      "11 day input [0.55882768 0.5554428  0.61732471 0.66070566 0.62070955 0.58616679\n",
      " 0.59277737 0.58110399 0.58317249 0.59671189 0.58713593 0.56549609\n",
      " 0.57310477 0.58885728 0.57528897 0.55878428 0.56546717 0.54534616\n",
      " 0.53099672 0.56364455 0.56475835 0.57013939 0.55816225 0.54917941\n",
      " 0.53187911 0.52270822 0.5061167  0.49382133 0.51845547 0.51553348\n",
      " 0.49173835 0.4782713  0.49669988 0.51663284 0.53669599 0.55000393\n",
      " 0.54131037 0.55335986 0.54116571 0.54293046 0.54023996 0.54698072\n",
      " 0.56623382 0.55126239 0.54131037 0.53969028 0.56577093 0.54935298\n",
      " 0.53228414 0.52331573 0.5142461  0.50284756 0.49720617 0.50636258\n",
      " 0.49291002 0.48817989 0.50372992 0.32664768 0.31511897 0.31121338\n",
      " 0.30309844 0.28644905 0.27218642 0.28806916 0.27481908 0.28798237\n",
      " 0.28857542 0.29456399 0.2718682  0.26123632 0.24985226 0.25644836\n",
      " 0.2401172  0.25160253 0.27088456 0.26925    0.27510838 0.25576849\n",
      " 0.26486706 0.26901857 0.27059526 0.260325   0.2711594  0.27632345\n",
      " 0.28180575 0.2850604  0.2785077  0.29612623 0.28728803 0.2861357\n",
      " 0.28344584 0.28105274 0.27891722 0.27686268 0.27470663 0.27232265\n",
      " 0.26966166 0.26673895 0.26360792 0.2603341 ]\n",
      "11 day output [[0.2569784]]\n",
      "12 day input [0.5554428  0.61732471 0.66070566 0.62070955 0.58616679 0.59277737\n",
      " 0.58110399 0.58317249 0.59671189 0.58713593 0.56549609 0.57310477\n",
      " 0.58885728 0.57528897 0.55878428 0.56546717 0.54534616 0.53099672\n",
      " 0.56364455 0.56475835 0.57013939 0.55816225 0.54917941 0.53187911\n",
      " 0.52270822 0.5061167  0.49382133 0.51845547 0.51553348 0.49173835\n",
      " 0.4782713  0.49669988 0.51663284 0.53669599 0.55000393 0.54131037\n",
      " 0.55335986 0.54116571 0.54293046 0.54023996 0.54698072 0.56623382\n",
      " 0.55126239 0.54131037 0.53969028 0.56577093 0.54935298 0.53228414\n",
      " 0.52331573 0.5142461  0.50284756 0.49720617 0.50636258 0.49291002\n",
      " 0.48817989 0.50372992 0.32664768 0.31511897 0.31121338 0.30309844\n",
      " 0.28644905 0.27218642 0.28806916 0.27481908 0.28798237 0.28857542\n",
      " 0.29456399 0.2718682  0.26123632 0.24985226 0.25644836 0.2401172\n",
      " 0.25160253 0.27088456 0.26925    0.27510838 0.25576849 0.26486706\n",
      " 0.26901857 0.27059526 0.260325   0.2711594  0.27632345 0.28180575\n",
      " 0.2850604  0.2785077  0.29612623 0.28728803 0.2861357  0.28344584\n",
      " 0.28105274 0.27891722 0.27686268 0.27470663 0.27232265 0.26966166\n",
      " 0.26673895 0.26360792 0.2603341  0.25697839]\n",
      "12 day output [[0.2535885]]\n",
      "13 day input [0.61732471 0.66070566 0.62070955 0.58616679 0.59277737 0.58110399\n",
      " 0.58317249 0.59671189 0.58713593 0.56549609 0.57310477 0.58885728\n",
      " 0.57528897 0.55878428 0.56546717 0.54534616 0.53099672 0.56364455\n",
      " 0.56475835 0.57013939 0.55816225 0.54917941 0.53187911 0.52270822\n",
      " 0.5061167  0.49382133 0.51845547 0.51553348 0.49173835 0.4782713\n",
      " 0.49669988 0.51663284 0.53669599 0.55000393 0.54131037 0.55335986\n",
      " 0.54116571 0.54293046 0.54023996 0.54698072 0.56623382 0.55126239\n",
      " 0.54131037 0.53969028 0.56577093 0.54935298 0.53228414 0.52331573\n",
      " 0.5142461  0.50284756 0.49720617 0.50636258 0.49291002 0.48817989\n",
      " 0.50372992 0.32664768 0.31511897 0.31121338 0.30309844 0.28644905\n",
      " 0.27218642 0.28806916 0.27481908 0.28798237 0.28857542 0.29456399\n",
      " 0.2718682  0.26123632 0.24985226 0.25644836 0.2401172  0.25160253\n",
      " 0.27088456 0.26925    0.27510838 0.25576849 0.26486706 0.26901857\n",
      " 0.27059526 0.260325   0.2711594  0.27632345 0.28180575 0.2850604\n",
      " 0.2785077  0.29612623 0.28728803 0.2861357  0.28344584 0.28105274\n",
      " 0.27891722 0.27686268 0.27470663 0.27232265 0.26966166 0.26673895\n",
      " 0.26360792 0.2603341  0.25697839 0.2535885 ]\n",
      "13 day output [[0.25019845]]\n",
      "14 day input [0.66070566 0.62070955 0.58616679 0.59277737 0.58110399 0.58317249\n",
      " 0.59671189 0.58713593 0.56549609 0.57310477 0.58885728 0.57528897\n",
      " 0.55878428 0.56546717 0.54534616 0.53099672 0.56364455 0.56475835\n",
      " 0.57013939 0.55816225 0.54917941 0.53187911 0.52270822 0.5061167\n",
      " 0.49382133 0.51845547 0.51553348 0.49173835 0.4782713  0.49669988\n",
      " 0.51663284 0.53669599 0.55000393 0.54131037 0.55335986 0.54116571\n",
      " 0.54293046 0.54023996 0.54698072 0.56623382 0.55126239 0.54131037\n",
      " 0.53969028 0.56577093 0.54935298 0.53228414 0.52331573 0.5142461\n",
      " 0.50284756 0.49720617 0.50636258 0.49291002 0.48817989 0.50372992\n",
      " 0.32664768 0.31511897 0.31121338 0.30309844 0.28644905 0.27218642\n",
      " 0.28806916 0.27481908 0.28798237 0.28857542 0.29456399 0.2718682\n",
      " 0.26123632 0.24985226 0.25644836 0.2401172  0.25160253 0.27088456\n",
      " 0.26925    0.27510838 0.25576849 0.26486706 0.26901857 0.27059526\n",
      " 0.260325   0.2711594  0.27632345 0.28180575 0.2850604  0.2785077\n",
      " 0.29612623 0.28728803 0.2861357  0.28344584 0.28105274 0.27891722\n",
      " 0.27686268 0.27470663 0.27232265 0.26966166 0.26673895 0.26360792\n",
      " 0.2603341  0.25697839 0.2535885  0.25019845]\n",
      "14 day output [[0.24683124]]\n",
      "15 day input [0.62070955 0.58616679 0.59277737 0.58110399 0.58317249 0.59671189\n",
      " 0.58713593 0.56549609 0.57310477 0.58885728 0.57528897 0.55878428\n",
      " 0.56546717 0.54534616 0.53099672 0.56364455 0.56475835 0.57013939\n",
      " 0.55816225 0.54917941 0.53187911 0.52270822 0.5061167  0.49382133\n",
      " 0.51845547 0.51553348 0.49173835 0.4782713  0.49669988 0.51663284\n",
      " 0.53669599 0.55000393 0.54131037 0.55335986 0.54116571 0.54293046\n",
      " 0.54023996 0.54698072 0.56623382 0.55126239 0.54131037 0.53969028\n",
      " 0.56577093 0.54935298 0.53228414 0.52331573 0.5142461  0.50284756\n",
      " 0.49720617 0.50636258 0.49291002 0.48817989 0.50372992 0.32664768\n",
      " 0.31511897 0.31121338 0.30309844 0.28644905 0.27218642 0.28806916\n",
      " 0.27481908 0.28798237 0.28857542 0.29456399 0.2718682  0.26123632\n",
      " 0.24985226 0.25644836 0.2401172  0.25160253 0.27088456 0.26925\n",
      " 0.27510838 0.25576849 0.26486706 0.26901857 0.27059526 0.260325\n",
      " 0.2711594  0.27632345 0.28180575 0.2850604  0.2785077  0.29612623\n",
      " 0.28728803 0.2861357  0.28344584 0.28105274 0.27891722 0.27686268\n",
      " 0.27470663 0.27232265 0.26966166 0.26673895 0.26360792 0.2603341\n",
      " 0.25697839 0.2535885  0.25019845 0.24683124]\n"
     ]
    },
    {
     "name": "stdout",
     "output_type": "stream",
     "text": [
      "15 day output [[0.24350294]]\n",
      "16 day input [0.58616679 0.59277737 0.58110399 0.58317249 0.59671189 0.58713593\n",
      " 0.56549609 0.57310477 0.58885728 0.57528897 0.55878428 0.56546717\n",
      " 0.54534616 0.53099672 0.56364455 0.56475835 0.57013939 0.55816225\n",
      " 0.54917941 0.53187911 0.52270822 0.5061167  0.49382133 0.51845547\n",
      " 0.51553348 0.49173835 0.4782713  0.49669988 0.51663284 0.53669599\n",
      " 0.55000393 0.54131037 0.55335986 0.54116571 0.54293046 0.54023996\n",
      " 0.54698072 0.56623382 0.55126239 0.54131037 0.53969028 0.56577093\n",
      " 0.54935298 0.53228414 0.52331573 0.5142461  0.50284756 0.49720617\n",
      " 0.50636258 0.49291002 0.48817989 0.50372992 0.32664768 0.31511897\n",
      " 0.31121338 0.30309844 0.28644905 0.27218642 0.28806916 0.27481908\n",
      " 0.28798237 0.28857542 0.29456399 0.2718682  0.26123632 0.24985226\n",
      " 0.25644836 0.2401172  0.25160253 0.27088456 0.26925    0.27510838\n",
      " 0.25576849 0.26486706 0.26901857 0.27059526 0.260325   0.2711594\n",
      " 0.27632345 0.28180575 0.2850604  0.2785077  0.29612623 0.28728803\n",
      " 0.2861357  0.28344584 0.28105274 0.27891722 0.27686268 0.27470663\n",
      " 0.27232265 0.26966166 0.26673895 0.26360792 0.2603341  0.25697839\n",
      " 0.2535885  0.25019845 0.24683124 0.24350294]\n",
      "16 day output [[0.2402259]]\n",
      "17 day input [0.59277737 0.58110399 0.58317249 0.59671189 0.58713593 0.56549609\n",
      " 0.57310477 0.58885728 0.57528897 0.55878428 0.56546717 0.54534616\n",
      " 0.53099672 0.56364455 0.56475835 0.57013939 0.55816225 0.54917941\n",
      " 0.53187911 0.52270822 0.5061167  0.49382133 0.51845547 0.51553348\n",
      " 0.49173835 0.4782713  0.49669988 0.51663284 0.53669599 0.55000393\n",
      " 0.54131037 0.55335986 0.54116571 0.54293046 0.54023996 0.54698072\n",
      " 0.56623382 0.55126239 0.54131037 0.53969028 0.56577093 0.54935298\n",
      " 0.53228414 0.52331573 0.5142461  0.50284756 0.49720617 0.50636258\n",
      " 0.49291002 0.48817989 0.50372992 0.32664768 0.31511897 0.31121338\n",
      " 0.30309844 0.28644905 0.27218642 0.28806916 0.27481908 0.28798237\n",
      " 0.28857542 0.29456399 0.2718682  0.26123632 0.24985226 0.25644836\n",
      " 0.2401172  0.25160253 0.27088456 0.26925    0.27510838 0.25576849\n",
      " 0.26486706 0.26901857 0.27059526 0.260325   0.2711594  0.27632345\n",
      " 0.28180575 0.2850604  0.2785077  0.29612623 0.28728803 0.2861357\n",
      " 0.28344584 0.28105274 0.27891722 0.27686268 0.27470663 0.27232265\n",
      " 0.26966166 0.26673895 0.26360792 0.2603341  0.25697839 0.2535885\n",
      " 0.25019845 0.24683124 0.24350294 0.2402259 ]\n",
      "17 day output [[0.23701069]]\n",
      "18 day input [0.58110399 0.58317249 0.59671189 0.58713593 0.56549609 0.57310477\n",
      " 0.58885728 0.57528897 0.55878428 0.56546717 0.54534616 0.53099672\n",
      " 0.56364455 0.56475835 0.57013939 0.55816225 0.54917941 0.53187911\n",
      " 0.52270822 0.5061167  0.49382133 0.51845547 0.51553348 0.49173835\n",
      " 0.4782713  0.49669988 0.51663284 0.53669599 0.55000393 0.54131037\n",
      " 0.55335986 0.54116571 0.54293046 0.54023996 0.54698072 0.56623382\n",
      " 0.55126239 0.54131037 0.53969028 0.56577093 0.54935298 0.53228414\n",
      " 0.52331573 0.5142461  0.50284756 0.49720617 0.50636258 0.49291002\n",
      " 0.48817989 0.50372992 0.32664768 0.31511897 0.31121338 0.30309844\n",
      " 0.28644905 0.27218642 0.28806916 0.27481908 0.28798237 0.28857542\n",
      " 0.29456399 0.2718682  0.26123632 0.24985226 0.25644836 0.2401172\n",
      " 0.25160253 0.27088456 0.26925    0.27510838 0.25576849 0.26486706\n",
      " 0.26901857 0.27059526 0.260325   0.2711594  0.27632345 0.28180575\n",
      " 0.2850604  0.2785077  0.29612623 0.28728803 0.2861357  0.28344584\n",
      " 0.28105274 0.27891722 0.27686268 0.27470663 0.27232265 0.26966166\n",
      " 0.26673895 0.26360792 0.2603341  0.25697839 0.2535885  0.25019845\n",
      " 0.24683124 0.24350294 0.2402259  0.23701069]\n",
      "18 day output [[0.2338667]]\n",
      "19 day input [0.58317249 0.59671189 0.58713593 0.56549609 0.57310477 0.58885728\n",
      " 0.57528897 0.55878428 0.56546717 0.54534616 0.53099672 0.56364455\n",
      " 0.56475835 0.57013939 0.55816225 0.54917941 0.53187911 0.52270822\n",
      " 0.5061167  0.49382133 0.51845547 0.51553348 0.49173835 0.4782713\n",
      " 0.49669988 0.51663284 0.53669599 0.55000393 0.54131037 0.55335986\n",
      " 0.54116571 0.54293046 0.54023996 0.54698072 0.56623382 0.55126239\n",
      " 0.54131037 0.53969028 0.56577093 0.54935298 0.53228414 0.52331573\n",
      " 0.5142461  0.50284756 0.49720617 0.50636258 0.49291002 0.48817989\n",
      " 0.50372992 0.32664768 0.31511897 0.31121338 0.30309844 0.28644905\n",
      " 0.27218642 0.28806916 0.27481908 0.28798237 0.28857542 0.29456399\n",
      " 0.2718682  0.26123632 0.24985226 0.25644836 0.2401172  0.25160253\n",
      " 0.27088456 0.26925    0.27510838 0.25576849 0.26486706 0.26901857\n",
      " 0.27059526 0.260325   0.2711594  0.27632345 0.28180575 0.2850604\n",
      " 0.2785077  0.29612623 0.28728803 0.2861357  0.28344584 0.28105274\n",
      " 0.27891722 0.27686268 0.27470663 0.27232265 0.26966166 0.26673895\n",
      " 0.26360792 0.2603341  0.25697839 0.2535885  0.25019845 0.24683124\n",
      " 0.24350294 0.2402259  0.23701069 0.23386671]\n",
      "19 day output [[0.23080227]]\n",
      "20 day input [0.59671189 0.58713593 0.56549609 0.57310477 0.58885728 0.57528897\n",
      " 0.55878428 0.56546717 0.54534616 0.53099672 0.56364455 0.56475835\n",
      " 0.57013939 0.55816225 0.54917941 0.53187911 0.52270822 0.5061167\n",
      " 0.49382133 0.51845547 0.51553348 0.49173835 0.4782713  0.49669988\n",
      " 0.51663284 0.53669599 0.55000393 0.54131037 0.55335986 0.54116571\n",
      " 0.54293046 0.54023996 0.54698072 0.56623382 0.55126239 0.54131037\n",
      " 0.53969028 0.56577093 0.54935298 0.53228414 0.52331573 0.5142461\n",
      " 0.50284756 0.49720617 0.50636258 0.49291002 0.48817989 0.50372992\n",
      " 0.32664768 0.31511897 0.31121338 0.30309844 0.28644905 0.27218642\n",
      " 0.28806916 0.27481908 0.28798237 0.28857542 0.29456399 0.2718682\n",
      " 0.26123632 0.24985226 0.25644836 0.2401172  0.25160253 0.27088456\n",
      " 0.26925    0.27510838 0.25576849 0.26486706 0.26901857 0.27059526\n",
      " 0.260325   0.2711594  0.27632345 0.28180575 0.2850604  0.2785077\n",
      " 0.29612623 0.28728803 0.2861357  0.28344584 0.28105274 0.27891722\n",
      " 0.27686268 0.27470663 0.27232265 0.26966166 0.26673895 0.26360792\n",
      " 0.2603341  0.25697839 0.2535885  0.25019845 0.24683124 0.24350294\n",
      " 0.2402259  0.23701069 0.23386671 0.23080227]\n",
      "20 day output [[0.2278244]]\n",
      "21 day input [0.58713593 0.56549609 0.57310477 0.58885728 0.57528897 0.55878428\n",
      " 0.56546717 0.54534616 0.53099672 0.56364455 0.56475835 0.57013939\n",
      " 0.55816225 0.54917941 0.53187911 0.52270822 0.5061167  0.49382133\n",
      " 0.51845547 0.51553348 0.49173835 0.4782713  0.49669988 0.51663284\n",
      " 0.53669599 0.55000393 0.54131037 0.55335986 0.54116571 0.54293046\n",
      " 0.54023996 0.54698072 0.56623382 0.55126239 0.54131037 0.53969028\n",
      " 0.56577093 0.54935298 0.53228414 0.52331573 0.5142461  0.50284756\n",
      " 0.49720617 0.50636258 0.49291002 0.48817989 0.50372992 0.32664768\n",
      " 0.31511897 0.31121338 0.30309844 0.28644905 0.27218642 0.28806916\n",
      " 0.27481908 0.28798237 0.28857542 0.29456399 0.2718682  0.26123632\n",
      " 0.24985226 0.25644836 0.2401172  0.25160253 0.27088456 0.26925\n",
      " 0.27510838 0.25576849 0.26486706 0.26901857 0.27059526 0.260325\n",
      " 0.2711594  0.27632345 0.28180575 0.2850604  0.2785077  0.29612623\n",
      " 0.28728803 0.2861357  0.28344584 0.28105274 0.27891722 0.27686268\n",
      " 0.27470663 0.27232265 0.26966166 0.26673895 0.26360792 0.2603341\n",
      " 0.25697839 0.2535885  0.25019845 0.24683124 0.24350294 0.2402259\n",
      " 0.23701069 0.23386671 0.23080227 0.2278244 ]\n",
      "21 day output [[0.2249382]]\n",
      "22 day input [0.56549609 0.57310477 0.58885728 0.57528897 0.55878428 0.56546717\n",
      " 0.54534616 0.53099672 0.56364455 0.56475835 0.57013939 0.55816225\n",
      " 0.54917941 0.53187911 0.52270822 0.5061167  0.49382133 0.51845547\n",
      " 0.51553348 0.49173835 0.4782713  0.49669988 0.51663284 0.53669599\n",
      " 0.55000393 0.54131037 0.55335986 0.54116571 0.54293046 0.54023996\n",
      " 0.54698072 0.56623382 0.55126239 0.54131037 0.53969028 0.56577093\n",
      " 0.54935298 0.53228414 0.52331573 0.5142461  0.50284756 0.49720617\n",
      " 0.50636258 0.49291002 0.48817989 0.50372992 0.32664768 0.31511897\n",
      " 0.31121338 0.30309844 0.28644905 0.27218642 0.28806916 0.27481908\n",
      " 0.28798237 0.28857542 0.29456399 0.2718682  0.26123632 0.24985226\n",
      " 0.25644836 0.2401172  0.25160253 0.27088456 0.26925    0.27510838\n",
      " 0.25576849 0.26486706 0.26901857 0.27059526 0.260325   0.2711594\n",
      " 0.27632345 0.28180575 0.2850604  0.2785077  0.29612623 0.28728803\n",
      " 0.2861357  0.28344584 0.28105274 0.27891722 0.27686268 0.27470663\n",
      " 0.27232265 0.26966166 0.26673895 0.26360792 0.2603341  0.25697839\n",
      " 0.2535885  0.25019845 0.24683124 0.24350294 0.2402259  0.23701069\n",
      " 0.23386671 0.23080227 0.2278244  0.2249382 ]\n",
      "22 day output [[0.22214676]]\n",
      "23 day input [0.57310477 0.58885728 0.57528897 0.55878428 0.56546717 0.54534616\n",
      " 0.53099672 0.56364455 0.56475835 0.57013939 0.55816225 0.54917941\n",
      " 0.53187911 0.52270822 0.5061167  0.49382133 0.51845547 0.51553348\n",
      " 0.49173835 0.4782713  0.49669988 0.51663284 0.53669599 0.55000393\n",
      " 0.54131037 0.55335986 0.54116571 0.54293046 0.54023996 0.54698072\n",
      " 0.56623382 0.55126239 0.54131037 0.53969028 0.56577093 0.54935298\n",
      " 0.53228414 0.52331573 0.5142461  0.50284756 0.49720617 0.50636258\n",
      " 0.49291002 0.48817989 0.50372992 0.32664768 0.31511897 0.31121338\n",
      " 0.30309844 0.28644905 0.27218642 0.28806916 0.27481908 0.28798237\n",
      " 0.28857542 0.29456399 0.2718682  0.26123632 0.24985226 0.25644836\n",
      " 0.2401172  0.25160253 0.27088456 0.26925    0.27510838 0.25576849\n",
      " 0.26486706 0.26901857 0.27059526 0.260325   0.2711594  0.27632345\n",
      " 0.28180575 0.2850604  0.2785077  0.29612623 0.28728803 0.2861357\n",
      " 0.28344584 0.28105274 0.27891722 0.27686268 0.27470663 0.27232265\n",
      " 0.26966166 0.26673895 0.26360792 0.2603341  0.25697839 0.2535885\n",
      " 0.25019845 0.24683124 0.24350294 0.2402259  0.23701069 0.23386671\n",
      " 0.23080227 0.2278244  0.2249382  0.22214676]\n"
     ]
    },
    {
     "name": "stdout",
     "output_type": "stream",
     "text": [
      "23 day output [[0.2194513]]\n",
      "24 day input [0.58885728 0.57528897 0.55878428 0.56546717 0.54534616 0.53099672\n",
      " 0.56364455 0.56475835 0.57013939 0.55816225 0.54917941 0.53187911\n",
      " 0.52270822 0.5061167  0.49382133 0.51845547 0.51553348 0.49173835\n",
      " 0.4782713  0.49669988 0.51663284 0.53669599 0.55000393 0.54131037\n",
      " 0.55335986 0.54116571 0.54293046 0.54023996 0.54698072 0.56623382\n",
      " 0.55126239 0.54131037 0.53969028 0.56577093 0.54935298 0.53228414\n",
      " 0.52331573 0.5142461  0.50284756 0.49720617 0.50636258 0.49291002\n",
      " 0.48817989 0.50372992 0.32664768 0.31511897 0.31121338 0.30309844\n",
      " 0.28644905 0.27218642 0.28806916 0.27481908 0.28798237 0.28857542\n",
      " 0.29456399 0.2718682  0.26123632 0.24985226 0.25644836 0.2401172\n",
      " 0.25160253 0.27088456 0.26925    0.27510838 0.25576849 0.26486706\n",
      " 0.26901857 0.27059526 0.260325   0.2711594  0.27632345 0.28180575\n",
      " 0.2850604  0.2785077  0.29612623 0.28728803 0.2861357  0.28344584\n",
      " 0.28105274 0.27891722 0.27686268 0.27470663 0.27232265 0.26966166\n",
      " 0.26673895 0.26360792 0.2603341  0.25697839 0.2535885  0.25019845\n",
      " 0.24683124 0.24350294 0.2402259  0.23701069 0.23386671 0.23080227\n",
      " 0.2278244  0.2249382  0.22214676 0.21945129]\n",
      "24 day output [[0.21685109]]\n",
      "25 day input [0.57528897 0.55878428 0.56546717 0.54534616 0.53099672 0.56364455\n",
      " 0.56475835 0.57013939 0.55816225 0.54917941 0.53187911 0.52270822\n",
      " 0.5061167  0.49382133 0.51845547 0.51553348 0.49173835 0.4782713\n",
      " 0.49669988 0.51663284 0.53669599 0.55000393 0.54131037 0.55335986\n",
      " 0.54116571 0.54293046 0.54023996 0.54698072 0.56623382 0.55126239\n",
      " 0.54131037 0.53969028 0.56577093 0.54935298 0.53228414 0.52331573\n",
      " 0.5142461  0.50284756 0.49720617 0.50636258 0.49291002 0.48817989\n",
      " 0.50372992 0.32664768 0.31511897 0.31121338 0.30309844 0.28644905\n",
      " 0.27218642 0.28806916 0.27481908 0.28798237 0.28857542 0.29456399\n",
      " 0.2718682  0.26123632 0.24985226 0.25644836 0.2401172  0.25160253\n",
      " 0.27088456 0.26925    0.27510838 0.25576849 0.26486706 0.26901857\n",
      " 0.27059526 0.260325   0.2711594  0.27632345 0.28180575 0.2850604\n",
      " 0.2785077  0.29612623 0.28728803 0.2861357  0.28344584 0.28105274\n",
      " 0.27891722 0.27686268 0.27470663 0.27232265 0.26966166 0.26673895\n",
      " 0.26360792 0.2603341  0.25697839 0.2535885  0.25019845 0.24683124\n",
      " 0.24350294 0.2402259  0.23701069 0.23386671 0.23080227 0.2278244\n",
      " 0.2249382  0.22214676 0.21945129 0.21685109]\n",
      "25 day output [[0.21434408]]\n",
      "26 day input [0.55878428 0.56546717 0.54534616 0.53099672 0.56364455 0.56475835\n",
      " 0.57013939 0.55816225 0.54917941 0.53187911 0.52270822 0.5061167\n",
      " 0.49382133 0.51845547 0.51553348 0.49173835 0.4782713  0.49669988\n",
      " 0.51663284 0.53669599 0.55000393 0.54131037 0.55335986 0.54116571\n",
      " 0.54293046 0.54023996 0.54698072 0.56623382 0.55126239 0.54131037\n",
      " 0.53969028 0.56577093 0.54935298 0.53228414 0.52331573 0.5142461\n",
      " 0.50284756 0.49720617 0.50636258 0.49291002 0.48817989 0.50372992\n",
      " 0.32664768 0.31511897 0.31121338 0.30309844 0.28644905 0.27218642\n",
      " 0.28806916 0.27481908 0.28798237 0.28857542 0.29456399 0.2718682\n",
      " 0.26123632 0.24985226 0.25644836 0.2401172  0.25160253 0.27088456\n",
      " 0.26925    0.27510838 0.25576849 0.26486706 0.26901857 0.27059526\n",
      " 0.260325   0.2711594  0.27632345 0.28180575 0.2850604  0.2785077\n",
      " 0.29612623 0.28728803 0.2861357  0.28344584 0.28105274 0.27891722\n",
      " 0.27686268 0.27470663 0.27232265 0.26966166 0.26673895 0.26360792\n",
      " 0.2603341  0.25697839 0.2535885  0.25019845 0.24683124 0.24350294\n",
      " 0.2402259  0.23701069 0.23386671 0.23080227 0.2278244  0.2249382\n",
      " 0.22214676 0.21945129 0.21685109 0.21434408]\n",
      "26 day output [[0.21192692]]\n",
      "27 day input [0.56546717 0.54534616 0.53099672 0.56364455 0.56475835 0.57013939\n",
      " 0.55816225 0.54917941 0.53187911 0.52270822 0.5061167  0.49382133\n",
      " 0.51845547 0.51553348 0.49173835 0.4782713  0.49669988 0.51663284\n",
      " 0.53669599 0.55000393 0.54131037 0.55335986 0.54116571 0.54293046\n",
      " 0.54023996 0.54698072 0.56623382 0.55126239 0.54131037 0.53969028\n",
      " 0.56577093 0.54935298 0.53228414 0.52331573 0.5142461  0.50284756\n",
      " 0.49720617 0.50636258 0.49291002 0.48817989 0.50372992 0.32664768\n",
      " 0.31511897 0.31121338 0.30309844 0.28644905 0.27218642 0.28806916\n",
      " 0.27481908 0.28798237 0.28857542 0.29456399 0.2718682  0.26123632\n",
      " 0.24985226 0.25644836 0.2401172  0.25160253 0.27088456 0.26925\n",
      " 0.27510838 0.25576849 0.26486706 0.26901857 0.27059526 0.260325\n",
      " 0.2711594  0.27632345 0.28180575 0.2850604  0.2785077  0.29612623\n",
      " 0.28728803 0.2861357  0.28344584 0.28105274 0.27891722 0.27686268\n",
      " 0.27470663 0.27232265 0.26966166 0.26673895 0.26360792 0.2603341\n",
      " 0.25697839 0.2535885  0.25019845 0.24683124 0.24350294 0.2402259\n",
      " 0.23701069 0.23386671 0.23080227 0.2278244  0.2249382  0.22214676\n",
      " 0.21945129 0.21685109 0.21434408 0.21192692]\n",
      "27 day output [[0.20959537]]\n",
      "28 day input [0.54534616 0.53099672 0.56364455 0.56475835 0.57013939 0.55816225\n",
      " 0.54917941 0.53187911 0.52270822 0.5061167  0.49382133 0.51845547\n",
      " 0.51553348 0.49173835 0.4782713  0.49669988 0.51663284 0.53669599\n",
      " 0.55000393 0.54131037 0.55335986 0.54116571 0.54293046 0.54023996\n",
      " 0.54698072 0.56623382 0.55126239 0.54131037 0.53969028 0.56577093\n",
      " 0.54935298 0.53228414 0.52331573 0.5142461  0.50284756 0.49720617\n",
      " 0.50636258 0.49291002 0.48817989 0.50372992 0.32664768 0.31511897\n",
      " 0.31121338 0.30309844 0.28644905 0.27218642 0.28806916 0.27481908\n",
      " 0.28798237 0.28857542 0.29456399 0.2718682  0.26123632 0.24985226\n",
      " 0.25644836 0.2401172  0.25160253 0.27088456 0.26925    0.27510838\n",
      " 0.25576849 0.26486706 0.26901857 0.27059526 0.260325   0.2711594\n",
      " 0.27632345 0.28180575 0.2850604  0.2785077  0.29612623 0.28728803\n",
      " 0.2861357  0.28344584 0.28105274 0.27891722 0.27686268 0.27470663\n",
      " 0.27232265 0.26966166 0.26673895 0.26360792 0.2603341  0.25697839\n",
      " 0.2535885  0.25019845 0.24683124 0.24350294 0.2402259  0.23701069\n",
      " 0.23386671 0.23080227 0.2278244  0.2249382  0.22214676 0.21945129\n",
      " 0.21685109 0.21434408 0.21192692 0.20959537]\n",
      "28 day output [[0.20734441]]\n",
      "29 day input [0.53099672 0.56364455 0.56475835 0.57013939 0.55816225 0.54917941\n",
      " 0.53187911 0.52270822 0.5061167  0.49382133 0.51845547 0.51553348\n",
      " 0.49173835 0.4782713  0.49669988 0.51663284 0.53669599 0.55000393\n",
      " 0.54131037 0.55335986 0.54116571 0.54293046 0.54023996 0.54698072\n",
      " 0.56623382 0.55126239 0.54131037 0.53969028 0.56577093 0.54935298\n",
      " 0.53228414 0.52331573 0.5142461  0.50284756 0.49720617 0.50636258\n",
      " 0.49291002 0.48817989 0.50372992 0.32664768 0.31511897 0.31121338\n",
      " 0.30309844 0.28644905 0.27218642 0.28806916 0.27481908 0.28798237\n",
      " 0.28857542 0.29456399 0.2718682  0.26123632 0.24985226 0.25644836\n",
      " 0.2401172  0.25160253 0.27088456 0.26925    0.27510838 0.25576849\n",
      " 0.26486706 0.26901857 0.27059526 0.260325   0.2711594  0.27632345\n",
      " 0.28180575 0.2850604  0.2785077  0.29612623 0.28728803 0.2861357\n",
      " 0.28344584 0.28105274 0.27891722 0.27686268 0.27470663 0.27232265\n",
      " 0.26966166 0.26673895 0.26360792 0.2603341  0.25697839 0.2535885\n",
      " 0.25019845 0.24683124 0.24350294 0.2402259  0.23701069 0.23386671\n",
      " 0.23080227 0.2278244  0.2249382  0.22214676 0.21945129 0.21685109\n",
      " 0.21434408 0.21192692 0.20959537 0.20734441]\n",
      "29 day output [[0.2051687]]\n",
      "[[0.2861357033252716], [0.2834458351135254], [0.28105273842811584], [0.27891722321510315], [0.2768626809120178], [0.27470663189888], [0.2723226547241211], [0.26966166496276855], [0.2667389512062073], [0.263607919216156], [0.2603341042995453], [0.2569783926010132], [0.2535884976387024], [0.25019845366477966], [0.2468312382698059], [0.24350294470787048], [0.2402258962392807], [0.23701068758964539], [0.23386670649051666], [0.2308022677898407], [0.227824404835701], [0.22493819892406464], [0.22214676439762115], [0.21945129334926605], [0.21685108542442322], [0.2143440842628479], [0.2119269222021103], [0.20959536731243134], [0.2073444128036499], [0.2051686942577362]]\n"
     ]
    }
   ],
   "source": [
    "from numpy import array\n",
    "\n",
    "output_1st=[]\n",
    "n_steps=100\n",
    "i=0\n",
    "while(i<30):\n",
    "    \n",
    "    if(len(temp_input)>100):\n",
    "        x_input=np.array(temp_input[1:])\n",
    "        print(\"{} day input {}\".format(i, x_input))\n",
    "        x_input=x_input.reshape(1,-1)\n",
    "        x_input= x_input.reshape((1, n_steps, 1))\n",
    "        \n",
    "        yhat = model.predict(x_input, verbose=0)\n",
    "        print(\"{} day output {}\".format(i,yhat))\n",
    "        temp_input.extend(yhat[0].tolist())\n",
    "        temp_input=temp_input[1:]\n",
    "        \n",
    "        output_1st.extend(yhat.tolist())\n",
    "        i=i+1\n",
    "    else:\n",
    "        x_input = x_input.reshape((1, n_steps,1))\n",
    "        yhat= model.predict(x_input, verbose=0)\n",
    "        print(yhat[0])\n",
    "        temp_input.extend(yhat[0].tolist())\n",
    "        print(len(temp_input))\n",
    "        output_1st.extend(yhat.tolist())\n",
    "        i=i+1\n",
    "\n",
    "        \n",
    "print(output_1st)"
   ]
  },
  {
   "cell_type": "code",
   "execution_count": 56,
   "id": "2a119e00",
   "metadata": {},
   "outputs": [],
   "source": [
    "day_new=np.arange(1,101)\n",
    "day_pred=np.arange(101,131)"
   ]
  },
  {
   "cell_type": "code",
   "execution_count": 57,
   "id": "f46a8e3e",
   "metadata": {},
   "outputs": [
    {
     "data": {
      "text/plain": [
       "5044"
      ]
     },
     "execution_count": 57,
     "metadata": {},
     "output_type": "execute_result"
    }
   ],
   "source": [
    "len(netflix_data1)"
   ]
  },
  {
   "cell_type": "code",
   "execution_count": 59,
   "id": "b0d51f57",
   "metadata": {},
   "outputs": [],
   "source": [
    "df3=netflix_data1.tolist()\n",
    "df3.extend(output_1st)"
   ]
  },
  {
   "cell_type": "code",
   "execution_count": 65,
   "id": "4e9f21ef",
   "metadata": {},
   "outputs": [
    {
     "data": {
      "image/png": "[encoded data removed]",
      "text/plain": [
       "<Figure size 640x480 with 1 Axes>"
      ]
     },
     "metadata": {},
     "output_type": "display_data"
    }
   ],
   "source": [
    "plt.plot(day_new,scaler.inverse_transform(netflix_data1[4944:]))\n",
    "plt.plot(day_pred,scaler.inverse_transform(output_1st));"
   ]
  },
  {
   "cell_type": "code",
   "execution_count": 66,
   "id": "29710be4",
   "metadata": {},
   "outputs": [
    {
     "data": {
      "text/plain": [
       "[<matplotlib.lines.Line2D at 0x29261e950>]"
      ]
     },
     "execution_count": 66,
     "metadata": {},
     "output_type": "execute_result"
    },
    {
     "data": {
      "image/png": "[encoded data removed]",
      "text/plain": [
       "<Figure size 640x480 with 1 Axes>"
      ]
     },
     "metadata": {},
     "output_type": "display_data"
    }
   ],
   "source": [
    "df3=netflix_data1.tolist()\n",
    "df3.extend(output_1st)\n",
    "plt.plot(df3[5000:])"
   ]
  },
  {
   "cell_type": "code",
   "execution_count": 69,
   "id": "f38d218b",
   "metadata": {},
   "outputs": [
    {
     "data": {
      "image/png": "[encoded data removed]",
      "text/plain": [
       "<Figure size 640x480 with 1 Axes>"
      ]
     },
     "metadata": {},
     "output_type": "display_data"
    }
   ],
   "source": [
    "df3=scaler.inverse_transform(df3).tolist()\n",
    "plt.plot(df3);"
   ]
  }
 ],
 "metadata": {
  "kernelspec": {
   "display_name": "Python 3 (ipykernel)",
   "language": "python",
   "name": "python3"
  },
  "language_info": {
   "codemirror_mode": {
    "name": "ipython",
    "version": 3
   },
   "file_extension": ".py",
   "mimetype": "text/x-python",
   "name": "python",
   "nbconvert_exporter": "python",
   "pygments_lexer": "ipython3",
   "version": "3.11.5"
  }
 },
 "nbformat": 4,
 "nbformat_minor": 5
}
